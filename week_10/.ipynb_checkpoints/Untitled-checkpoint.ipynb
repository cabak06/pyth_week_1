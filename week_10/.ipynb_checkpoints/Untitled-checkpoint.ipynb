{
 "cells": [
  {
   "cell_type": "markdown",
   "metadata": {},
   "source": [
    "## The Python Cult\n",
    "\n",
    "### Assignment 1: Organize your cult\n",
    "\n",
    "* Read in the random names in the file Random_Names.txt into a list cultist_names.\n",
    "\n",
    "* Make a support method recruit_cultist, that takes a string name, and returns a dict with skills as below, each assigned a random int between 0 and 5:\n",
    "\n",
    "cultist = {\n",
    "'name': {\n",
    " 'stealth': random.randint(min_score, max_score), \n",
    " 'influence': random.randint(min_score, max_score), \n",
    " 'endurance': random.randint(min_score, max_score), \n",
    " 'lore': random.randint(min_score, max_score), \n",
    " 'economic': random.randint(min_score, max_score), \n",
    " 'strength': random.randint(min_score, max_score), \n",
    " 'insanity': random.randint(min_score, max_score)\n",
    "}\n",
    "}\n",
    "\n",
    "* Run all names from cultist_names thought the recruit_cultist method, and gather all the results in a cult dict\n",
    "\n",
    "* Make the following dict cult_roles as below. Each value represents how importent a skill is for the given role:\n",
    "\n",
    "cult_roles = {\n",
    "'Priest': {'stealth': -1, 'influence': 3, 'endurance': 2, 'lore': 4, 'economic': 1, 'strength': 0, 'insanity': 5},\n",
    "'Enforcer': {'stealth': 1, 'influence': 3, 'endurance': 4, 'lore': 0, 'economic': -1, 'strength': 5, 'insanity': 2},\n",
    "'Assassin': {'stealth': 5, 'influence': -1, 'endurance': 4, 'lore': 1, 'economic': 0, 'strength': 2, 'insanity': 3},\n",
    "'Recruiter': {'stealth': 1, 'influence': 5, 'endurance': 0, 'lore': 3, 'economic': 2, 'strength': -1, 'insanity': 4},\n",
    "'Accountant': {'stealth': 2, 'influence': 1, 'endurance': 3, 'lore': 4, 'economic': 5, 'strength': 0, 'insanity': -1},\n",
    "'Advisor': {'stealth': 2, 'influence': 4, 'endurance': -1, 'lore': 5, 'economic': 3, 'strength': 0, 'insanity': 1}\n",
    "}\n",
    "\n",
    "* Make a method assign_cult_roles, that takes the cult and cult_roles dicts, and returned the cult dict, where each name dict has gotten an attribute role. Each role should be assign on which of the roles have the highest 'score' when dotted between the name dict and the cult_roles."
   ]
  },
  {
   "cell_type": "code",
   "execution_count": 1,
   "metadata": {},
   "outputs": [
    {
     "name": "stdout",
     "output_type": "stream",
     "text": [
      "['Wilma Hudson', 'Mary Harrington', 'Thelma Blanchard', 'Lindsey Mcgee', 'Harlan Ewing', 'Cara Giles', 'Roger Oliver', 'Herminia Munoz', 'Fred Alvarez', 'Bud Woods', 'Freida Case', 'Eldridge Hatfield', 'Jan Cabrera', 'Jermaine Pratt', 'Lanny Huynh', 'Ulysses Mccall', 'Coleen Weber', 'Trudy Gaines', 'Loyd Tapia', 'George Gordon', 'Nick Oconnor', 'Latoya Gilmore', 'Eldon Pena', 'Tania Roberson', 'Allie Sanchez', 'Weston Chang', 'Marci Salinas', 'Tasha Allison', 'Jerri Carey', 'Virginia Harrison', 'April Hull', 'Lupe Eaton', 'Inez Lozano', 'Forrest Santana', 'Deloris Frank', 'Olivia Hendrix', 'Granville Cannon', 'Jefferey Weeks', 'Noble Buck', 'Gracie Benitez', 'Levi Peterson', 'Reginald Odom', 'Brain Wiley', 'Mari Stanton', 'Marcella Barrett', 'Cecile Herrera', 'Marty Tucker', 'Sharron Werner', 'Fredric James', 'Kerry Myers', 'Herminia Pineda', 'Elnora Johnston', 'Sonja Maddox', 'Irwin Schwartz', 'Jame Stark', 'Katelyn Maxwell', 'Janine Haas', 'Heather Morales', 'Garret Shaffer', 'Jillian Salas', 'Rachel Rosario', 'Morgan Anderson', 'Carlos Chapman', 'Earnestine Dickson', 'Arline Brock', 'Roger Neal', 'Merle Gonzales', 'Lindsay Callahan', 'Frieda Pham', 'Lorene Reeves', 'Saul Baldwin', 'Darryl Graves', 'Michael Bartlett', 'Terence Pitts', 'Aimee Hammond', 'Basil Flynn', 'Celia Roman', 'Damien Donovan', 'Carter Lam', 'Lucile Hart', 'Sara Stanley', 'Nick King', 'Martina Daniel', 'Neva Bruce', 'Long Brooks', 'Alexandra Drake', 'Erick Page', 'Lora Dalton', 'Eloise Hurley', 'Lenny Serrano', 'Ken Lynn', 'Camille Pace', 'Alyce Ortiz', 'Carol Potter', 'Grady Booker', 'Jewell Bender', 'Everette Burgess', 'Marshall Day', 'Pasquale Rios']\n"
     ]
    }
   ],
   "source": [
    "import numpy as np\n",
    "import random\n",
    "\n",
    "\n",
    "#making a list out of names in textfile\n",
    "\n",
    "cultist_names = []\n",
    "tmp = []\n",
    "f = open('names.txt')\n",
    "for name in f:\n",
    "    name = f.read().splitlines()\n",
    "    tmp.append(name)\n",
    "\n",
    "for nameList in tmp:\n",
    "    for name in nameList:\n",
    "       cultist_names.append(name)\n",
    "print(cultist_names)"
   ]
  },
  {
   "cell_type": "markdown",
   "metadata": {},
   "source": [
    "#### Make a support method recruit_cultist, that takes a string name, and returns a dict with skills as below, each assigned a random int between 0 and 5:"
   ]
  },
  {
   "cell_type": "code",
   "execution_count": 2,
   "metadata": {},
   "outputs": [],
   "source": [
    "#making the helper method:  Skill-valuess set random between 0 and 5 (inclusive)\n",
    "def recruit_cultist(name):\n",
    "    cultist = {name: {\n",
    "    'stealth': random.randint(0, 5), \n",
    "    'influence': random.randint(0, 5), \n",
    "    'endurance': random.randint(0, 5), \n",
    "    'lore': random.randint(0, 5), \n",
    "    'economic': random.randint(0, 5), \n",
    "    'strength': random.randint(0, 5), \n",
    "    'insanity': random.randint(0, 5)}\n",
    "    }\n",
    "    return cultist   "
   ]
  },
  {
   "cell_type": "markdown",
   "metadata": {},
   "source": [
    "#### Run all names from cultist_names thought the recruit_cultist method, and gather all the results in a cult dict"
   ]
  },
  {
   "cell_type": "code",
   "execution_count": 12,
   "metadata": {},
   "outputs": [
    {
     "name": "stdout",
     "output_type": "stream",
     "text": [
      "{'Wilma Hudson': {'stealth': 5, 'influence': 2, 'endurance': 0, 'lore': 4, 'economic': 2, 'strength': 3, 'insanity': 2}, 'Mary Harrington': {'stealth': 0, 'influence': 5, 'endurance': 3, 'lore': 3, 'economic': 3, 'strength': 0, 'insanity': 1}, 'Thelma Blanchard': {'stealth': 3, 'influence': 0, 'endurance': 2, 'lore': 2, 'economic': 4, 'strength': 2, 'insanity': 4}, 'Lindsey Mcgee': {'stealth': 4, 'influence': 1, 'endurance': 3, 'lore': 3, 'economic': 4, 'strength': 1, 'insanity': 3}, 'Harlan Ewing': {'stealth': 3, 'influence': 0, 'endurance': 5, 'lore': 1, 'economic': 1, 'strength': 0, 'insanity': 2}}\n"
     ]
    }
   ],
   "source": [
    "#running all the names through helpermethod (recruit_cultist) and gather result in a cult dict\n",
    "cult = {}\n",
    "for name in cultist_names:\n",
    "    skills_added_to_name = recruit_cultist(name)\n",
    "    cult.update(skills_added_to_name)\n",
    "print(dict(list(cult.items())[0:5]))"
   ]
  },
  {
   "cell_type": "markdown",
   "metadata": {},
   "source": [
    "#### Make the following dict cult_roles as below. Each value represents how importent a skill is for the given role:\n",
    "\n",
    "cult_roles = { 'Priest': {'stealth': -1, 'influence': 3, 'endurance': 2, 'lore': 4, 'economic': 1, 'strength': 0, 'insanity': 5}, 'Enforcer': {'stealth': 1, 'influence': 3, 'endurance': 4, 'lore': 0, 'economic': -1, 'strength': 5, 'insanity': 2}, 'Assassin': {'stealth': 5, 'influence': -1, 'endurance': 4, 'lore': 1, 'economic': 0, 'strength': 2, 'insanity': 3}, 'Recruiter': {'stealth': 1, 'influence': 5, 'endurance': 0, 'lore': 3, 'economic': 2, 'strength': -1, 'insanity': 4}, 'Accountant': {'stealth': 2, 'influence': 1, 'endurance': 3, 'lore': 4, 'economic': 5, 'strength': 0, 'insanity': -1}, 'Advisor': {'stealth': 2, 'influence': 4, 'endurance': -1, 'lore': 5, 'economic': 3, 'strength': 0, 'insanity': 1} }"
   ]
  },
  {
   "cell_type": "code",
   "execution_count": 13,
   "metadata": {},
   "outputs": [],
   "source": [
    "cult_roles = {\n",
    "'Priest': {'stealth': -1, 'influence': 3, 'endurance': 2, 'lore': 4, 'economic': 1, 'strength': 0, 'insanity': 5},\n",
    "'Enforcer': {'stealth': 1, 'influence': 3, 'endurance': 4, 'lore': 0, 'economic': -1, 'strength': 5, 'insanity': 2},\n",
    "'Assassin': {'stealth': 5, 'influence': -1, 'endurance': 4, 'lore': 1, 'economic': 0, 'strength': 2, 'insanity': 3},\n",
    "'Recruiter': {'stealth': 1, 'influence': 5, 'endurance': 0, 'lore': 3, 'economic': 2, 'strength': -1, 'insanity': 4},\n",
    "'Accountant': {'stealth': 2, 'influence': 1, 'endurance': 3, 'lore': 4, 'economic': 5, 'strength': 0, 'insanity': -1},\n",
    "'Advisor': {'stealth': 2, 'influence': 4, 'endurance': -1, 'lore': 5, 'economic': 3, 'strength': 0, 'insanity': 1}\n",
    "}\n",
    "\n",
    "skill_list = ['stealth', 'influence', 'endurance', 'lore', 'economic', 'strength','insanity']\n",
    "role_list = ['Priest', 'Enforcer', 'Assassin', 'Recruiter', 'Accountant', 'Advisor']"
   ]
  },
  {
   "cell_type": "markdown",
   "metadata": {},
   "source": [
    "#### Make a method assign_cult_roles, that takes the cult and cult_roles dicts, and returned the cult dict, where each name dict has gotten an attribute role. Each role should be assign on which of the roles have the highest 'score' when dotted between the name dict and the cult_roles."
   ]
  },
  {
   "cell_type": "code",
   "execution_count": 25,
   "metadata": {},
   "outputs": [
    {
     "name": "stdout",
     "output_type": "stream",
     "text": [
      "Roles-Assigned:  {'Wilma Hudson': 'Advisor', 'Mary Harrington': 'Recruiter', 'Thelma Blanchard': 'Assassin', 'Lindsey Mcgee': 'Accountant', 'Harlan Ewing': 'Assassin', 'Cara Giles': 'Priest', 'Roger Oliver': 'Assassin', 'Herminia Munoz': 'Recruiter', 'Fred Alvarez': 'Enforcer', 'Bud Woods': 'Advisor', 'Freida Case': 'Priest', 'Eldridge Hatfield': 'Assassin', 'Jan Cabrera': 'Accountant', 'Jermaine Pratt': 'Priest', 'Lanny Huynh': 'Priest', 'Ulysses Mccall': 'Enforcer', 'Coleen Weber': 'Recruiter', 'Trudy Gaines': 'Priest', 'Loyd Tapia': 'Advisor', 'George Gordon': 'Advisor'}\n",
      "\n",
      "Role-Distribution:  {'Priest': 14, 'Enforcer': 17, 'Assassin': 13, 'Recruiter': 14, 'Accountant': 28, 'Advisor': 13}\n"
     ]
    }
   ],
   "source": [
    "def assign_cult_roles(cult,cult_roles): \n",
    "    #handling data for cult\n",
    "    matrix_data_cult = []\n",
    "    for name, values in cult.items():\n",
    "        matrix_data_cult.append(list(values[key] for key in skill_list))\n",
    "    matrix_cult = np.array(matrix_data_cult)\n",
    "\n",
    "    #handling data for cult_roles / transposing the array in order to have the right format for dotting\n",
    "    matrix_data_cult_roles = []\n",
    "    for name, values in cult_roles.items():\n",
    "        matrix_data_cult_roles.append(list(values[key] for key in skill_list))\n",
    "    matrix_cult_roles = np.array(matrix_data_cult_roles).T        \n",
    "\n",
    "    # dotting (getting the dot product) between the two arrays\n",
    "    dot_values = matrix_cult.dot(matrix_cult_roles)\n",
    "\n",
    "    #Assigning roles depending on highest 'score'\n",
    "    role_assigning = {}\n",
    "    x = 0\n",
    "    while x < len(cultist_names):\n",
    "        name = cultist_names[x]\n",
    "        row = dot_values[x]\n",
    "        highest= {'idx': None, 'value': -1000, 'role': None}\n",
    "        for indx in range(0, len(row)):\n",
    "            if (highest['value'] < row[indx]):\n",
    "                highest['idx'] = indx\n",
    "                highest['value'] = row[indx]\n",
    "                highest['role'] = role_list[indx] \n",
    "        x+=1\n",
    "        role_assigning.update({name:highest['role']})    \n",
    "    return role_assigning   \n",
    "\n",
    "\n",
    "    #counting aggregated role distribution\n",
    "def role_distribution():\n",
    "    roles_assigned = assign_cult_roles(cult,cult_roles)\n",
    "    results = dict.fromkeys(cult_roles, 0)\n",
    "    for element in results:\n",
    "        for i in roles_assigned.items():\n",
    "            if element == i[1]:\n",
    "                value = results[element]\n",
    "                value +=1\n",
    "                results[element] = value\n",
    "    return results\n",
    "\n",
    "\n",
    "roles = assign_cult_roles(cult,cult_roles)\n",
    "print('Roles-Assigned: ', dict(list(roles.items())[:20]))\n",
    "\n",
    "print()\n",
    "\n",
    "role_distribution = role_distribution()\n",
    "print('Role-Distribution: ', role_distribution)"
   ]
  },
  {
   "cell_type": "markdown",
   "metadata": {},
   "source": [
    "### Assignment 2: Cult Recruitment Statistics\n",
    "* Save the data from the cult_statistics.csv file in a variable cult_data (You can use panda here)\n",
    "* Plot new recruits as a function to amount_spend.\n",
    "* Plot new recruits as a function to total_amount.\n",
    "* Make a model object from klearn linear regression model to use for the following assignments.\n",
    "* Predict new recuits if amount_spend doubles\n",
    "* Predict new recuits if total_amount decrease by 20%\n",
    "* Reverse the data, to predict how much amount_spend should be, to make new_recruits equal to 1000"
   ]
  },
  {
   "cell_type": "code",
   "execution_count": 28,
   "metadata": {},
   "outputs": [
    {
     "name": "stdout",
     "output_type": "stream",
     "text": [
      "   year  new_recruit  amount_spend(per_10000)  total_amount\n",
      "0  1605            9                     0.09           344\n",
      "1  1606           11                     0.11           355\n",
      "2  1607           11                     0.11           366\n",
      "3  1608           10                     0.10           376\n",
      "4  1609           12                     0.11           388\n"
     ]
    }
   ],
   "source": [
    "import pandas as pd\n",
    "\n",
    "df = pd.read_csv ('cult_statistics.csv')\n",
    "print(df.head())"
   ]
  },
  {
   "cell_type": "markdown",
   "metadata": {},
   "source": [
    "#### Plot new recruits as a function to amount_spend"
   ]
  },
  {
   "cell_type": "code",
   "execution_count": 30,
   "metadata": {},
   "outputs": [
    {
     "data": {
      "image/png": "[encoded data removed]",
      "text/plain": [
       "<Figure size 432x288 with 1 Axes>"
      ]
     },
     "metadata": {
      "needs_background": "light"
     },
     "output_type": "display_data"
    }
   ],
   "source": [
    "import matplotlib.pyplot as plt\n",
    "\n",
    "# extracting data from column new recruits and amount spend\n",
    "extract_data_recruit = pd.DataFrame(df, columns= ['new_recruit'])\n",
    "extract_data_amount = pd.DataFrame(df, columns=['amount_spend(per_10000)'])\n",
    "extract_data_total = pd.DataFrame(df, columns=['total_amount'])\n",
    "\n",
    "\n",
    "# full list of new_recruits\n",
    "new_recruits = []\n",
    "for i, r in extract_data_recruit.iterrows():\n",
    "    new_recruits.append((r['new_recruit']))\n",
    "\n",
    "#full list of amount_spend\n",
    "amount_spend = []\n",
    "for i, r in extract_data_amount.iterrows():\n",
    "    amount_spend.append((r['amount_spend(per_10000)']))\n",
    "\n",
    "# full list of total_amount\n",
    "total_amount = []\n",
    "for i, r in extract_data_total.iterrows():\n",
    "    total_amount.append((r['total_amount']))\n",
    "\n",
    "# getting min/max values for different columns\n",
    "minR = min(new_recruits)\n",
    "maxR = max(new_recruits)\n",
    "\n",
    "minA = min(amount_spend)\n",
    "maxA = max(amount_spend)\n",
    "\n",
    "minT = min(total_amount)\n",
    "maxT = max(total_amount)\n",
    "\n",
    "df.plot.scatter(x = 2,y = 1)\n",
    "plt.plot([minA, maxA], [minR, maxR])\n",
    "plt.show()"
   ]
  },
  {
   "cell_type": "markdown",
   "metadata": {},
   "source": [
    "#### Plot new recruits as a function to total_amount"
   ]
  },
  {
   "cell_type": "code",
   "execution_count": 31,
   "metadata": {},
   "outputs": [
    {
     "data": {
      "image/png": "[encoded data removed]",
      "text/plain": [
       "<Figure size 432x288 with 1 Axes>"
      ]
     },
     "metadata": {
      "needs_background": "light"
     },
     "output_type": "display_data"
    }
   ],
   "source": [
    "df.plot.scatter(x = 3,y = 1)\n",
    "plt.plot([minT, maxT], [minR, maxR])\n",
    "plt.show()"
   ]
  },
  {
   "cell_type": "markdown",
   "metadata": {},
   "source": [
    "#### Make a model object from klearn linear regression model to use for the following assignments."
   ]
  },
  {
   "cell_type": "code",
   "execution_count": 56,
   "metadata": {},
   "outputs": [],
   "source": [
    "import sklearn\n",
    "import sklearn.linear_model\n",
    "\n",
    "model = sklearn.linear_model.LinearRegression()\n"
   ]
  },
  {
   "cell_type": "markdown",
   "metadata": {},
   "source": [
    "#### Predict new recuits if amount_spend doubles"
   ]
  },
  {
   "cell_type": "code",
   "execution_count": 65,
   "metadata": {},
   "outputs": [
    {
     "name": "stdout",
     "output_type": "stream",
     "text": [
      "Spending double means 1409.7076856480815 new recruits\n"
     ]
    }
   ],
   "source": [
    "\n",
    "amount_spend = df['amount_spend(per_10000)']\n",
    "new_recruit = df['new_recruit']\n",
    "amount_reshape = np.array(amount_spend).reshape(-1, 1)\n",
    "\n",
    "model.fit(amount_reshape, new_recruit)\n",
    "\n",
    "predicted = model.predict(amount_reshape)\n",
    "#I use the max amount_spend value (maxA) as 'key'\n",
    "spendingDouble = model.predict([[maxA*2]])\n",
    "print('Spending double means {} new recruits'.format(spendingDouble[0]))\n"
   ]
  },
  {
   "cell_type": "markdown",
   "metadata": {},
   "source": [
    "#### Predict new recuits if total_amount decrease by 20%"
   ]
  },
  {
   "cell_type": "code",
   "execution_count": 64,
   "metadata": {},
   "outputs": [
    {
     "name": "stdout",
     "output_type": "stream",
     "text": [
      "Spending 20% less means 536.710892213609 new recruits\n"
     ]
    }
   ],
   "source": [
    "total_amount = df['total_amount']\n",
    "total_amount_reshape = np.array(total_amount).reshape(-1, 1)\n",
    "\n",
    "model.fit(total_amount_reshape, new_recruit)\n",
    "\n",
    "predicted = model.predict(total_amount_reshape)\n",
    "#I use the max total_amount_spend value (maxT) as 'key'\n",
    "spending20_pct_less = model.predict([[maxT*0.8]])\n",
    "print('Spending 20% less means {} new recruits'.format(spending20_pct_less[0]))\n",
    "\n"
   ]
  },
  {
   "cell_type": "code",
   "execution_count": null,
   "metadata": {},
   "outputs": [],
   "source": []
  }
 ],
 "metadata": {
  "kernelspec": {
   "display_name": "Python 3",
   "language": "python",
   "name": "python3"
  },
  "language_info": {
   "codemirror_mode": {
    "name": "ipython",
    "version": 3
   },
   "file_extension": ".py",
   "mimetype": "text/x-python",
   "name": "python",
   "nbconvert_exporter": "python",
   "pygments_lexer": "ipython3",
   "version": "3.7.6"
  }
 },
 "nbformat": 4,
 "nbformat_minor": 4
}
