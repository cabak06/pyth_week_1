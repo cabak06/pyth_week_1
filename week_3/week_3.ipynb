{
 "cells": [
  {
   "cell_type": "markdown",
   "metadata": {},
   "source": [
    "## Ex 1 Classes\n",
    "1. Create 3 classes: Student, DataSheet and Course\n",
    "2. A student has a data_sheet and a data_sheet has multiple courses in particular order\n",
    "3. Each course has name, classroom, teacher, ETCS and optional grade if course is taken.\n",
    "4. In Student create __init__() so that a Student can be initiated with name, gender, data_sheet and image_url\n",
    "5. In DataSheet create a method to get_grades_as_list()\n",
    "6. In student create a method: get_avg_grade()"
   ]
  },
  {
   "cell_type": "code",
   "execution_count": 2,
   "metadata": {},
   "outputs": [],
   "source": [
    "class Course:\n",
    "    def __init__(self, name, classroom, teacher, ECTS, grade = None):\n",
    "       \n",
    "        self.name = name\n",
    "        self.classroom = classroom\n",
    "        self.teacher = teacher\n",
    "        self.ECTS = ECTS\n",
    "        self.grade = grade\n",
    "\n",
    "    \n",
    "    def __str__(self):\n",
    "        return \"Course: {name}\\nClassroom: {room}\\nTeacher: {teacher}\\nECTS: {ECTS}\\nOpt_Grade: {grade}\".format(\n",
    "            name=self.name,\n",
    "            room=self.classroom,\n",
    "            teacher=self.teacher,\n",
    "            ECTS=self.ECTS,\n",
    "            grade=self.grade,\n",
    "        )    \n",
    "    \n",
    "    \n",
    "    def __repr__(self):\n",
    "        return \"Course(%r, %r, %r,%r,%r)\" % (\n",
    "            self.name,\n",
    "            self.classroom,\n",
    "            self.teacher,\n",
    "            self.ECTS,\n",
    "            self.grade,\n",
    "        )\n",
    "    "
   ]
  },
  {
   "cell_type": "code",
   "execution_count": 7,
   "metadata": {},
   "outputs": [],
   "source": [
    "#import Course\n",
    "\n",
    "class DataSheet:\n",
    "    def __init__(self, courses: list):\n",
    "        self.courses = courses\n",
    "\n",
    "\n",
    "    def __str__(self):\n",
    "        return '{courses}'.format(\n",
    "            courses = self.courses\n",
    "        )    \n",
    "\n",
    "\n",
    "    def get_grades_as_list(self):\n",
    "        list_grades = []\n",
    "        for course in self.courses:\n",
    "            list_grades.append(course.grade)\n",
    "        return list_grades\n",
    "\n",
    "\n",
    "    def get_ects_as_list(self):\n",
    "        list_ects = []\n",
    "        for course in self.courses:\n",
    "            list_ects.append(course.ects)\n",
    "        return list_ects\n"
   ]
  },
  {
   "cell_type": "code",
   "execution_count": 10,
   "metadata": {},
   "outputs": [],
   "source": [
    "#import dataSheet\n",
    "#import course\n",
    "#import random\n",
    "\n",
    "\n",
    "class Student:\n",
    "    def __init__(self, name,gender,data_sheet: DataSheet,image_url):\n",
    "        self.name = name\n",
    "        self.gender = gender\n",
    "        self.data_sheet = data_sheet\n",
    "        self.image_url = image_url\n",
    "\n",
    "    def __str__(self):\n",
    "        return \"Student: {name}\\nGender: {gender}\\nDataSheet: {data_sheet}\\nImage_url: {image_url}\\n\".format(\n",
    "            name=self.name,\n",
    "            gender=self.gender,\n",
    "            data_sheet=self.data_sheet,\n",
    "            image_url=self.image_url,\n",
    "        )  \n",
    "\n",
    "    def __repr__(self):\n",
    "        return \"Student(%r,%r,%r,%r)\" % (\n",
    "            self.name,\n",
    "            self.gender,\n",
    "            self.data_sheet,\n",
    "            self.image_url,\n",
    "        )\n",
    "\n",
    "    def get_avg_grade(self):\n",
    "        tmp_grades = self.data_sheet.get_grades_as_list()\n",
    "        total_sum = 0\n",
    "        for grade in tmp_grades:\n",
    "            total_sum += grade\n",
    "        return total_sum / len(tmp_grades)\n",
    "\n",
    "\n",
    "\n",
    "    def get_study_progression(self):\n",
    "        tmp_ects = self.data_sheet.get_ects_as_list()\n",
    "        total_sum = 0\n",
    "        for ects in tmp_ects:\n",
    "            total_sum += int(ects)\n",
    "        return ((100/150)*total_sum)\n"
   ]
  },
  {
   "cell_type": "markdown",
   "metadata": {},
   "source": [
    "7. Create a function that can generate n number of students with random: name, gender, courses (from a fixed list of course names), grades, img_url\n",
    "   1. Let the function write the result to a csv file with format stud_name, course_name, teacher, ects, classroom, grade, img_url"
   ]
  },
  {
   "cell_type": "code",
   "execution_count": 19,
   "metadata": {},
   "outputs": [
    {
     "data": {
      "text/plain": [
       "[Student('Peter','Female',<__main__.DataSheet object at 0x7f2c84447050>,'https://pixabay.com/photos/hardwood-antique-backdrop-1851071/'),\n",
       " Student('Svend','Male',<__main__.DataSheet object at 0x7f2c84447350>,'https://pixabay.com/photos/three-wheeler-tricycle-trike-locked-336700/'),\n",
       " Student('Svend','Female',<__main__.DataSheet object at 0x7f2c84447410>,'https://pixabay.com/photos/lavender-lavender-field-894919/'),\n",
       " Student('Alfred','Male',<__main__.DataSheet object at 0x7f2c84461090>,'https://pixabay.com/illustrations/poison-bottle-medicine-old-symbol-1481596/'),\n",
       " Student('Siv','Female',<__main__.DataSheet object at 0x7f2c84461910>,'https://pixabay.com/photos/hardwood-antique-backdrop-1851071/'),\n",
       " Student('Alfred','Male',<__main__.DataSheet object at 0x7f2c844619d0>,'https://pixabay.com/photos/hardwood-antique-backdrop-1851071/'),\n",
       " Student('Alfred','Male',<__main__.DataSheet object at 0x7f2c84461a90>,'https://pixabay.com/photos/three-wheeler-tricycle-trike-locked-336700/'),\n",
       " Student('Svend','Female',<__main__.DataSheet object at 0x7f2c84461b50>,'https://pixabay.com/photos/hardwood-antique-backdrop-1851071/'),\n",
       " Student('Jane','Female',<__main__.DataSheet object at 0x7f2c84461c10>,'https://pixabay.com/photos/three-wheeler-tricycle-trike-locked-336700/'),\n",
       " Student('Peter','Male',<__main__.DataSheet object at 0x7f2c84461c90>,'https://pixabay.com/illustrations/poison-bottle-medicine-old-symbol-1481596/')]"
      ]
     },
     "execution_count": 19,
     "metadata": {},
     "output_type": "execute_result"
    }
   ],
   "source": [
    "def generate_random_students():\n",
    "    rand_nameList = [\"Alfred\",\"Peter\",\"Hanne\",\"Jane\",\"Hans\",\"Siv\",\"Svend\",\"Jon\"]\n",
    "    rand_genderList = [\"Male\",\"Female\"]\n",
    "\n",
    "    #datasheet/course-info\n",
    "    rand_courseNameList = [\"Geography\",\"Math\",\"Science\",\"Litterature\",\"Business\",\"Statistics\"]\n",
    "    rand_classroomList = [100,200,300,400,500]\n",
    "    rand_teacherList = ['Mr. Hook','Mr. Wood','Miss Adler','Mrs Snow','Mr Twist']\n",
    "    rand_ECTS_List = [5,10,15,20,25,30]\n",
    "    rand_gradeList = [-2,int(),2,4,7,10,12]\n",
    "\n",
    "    rand_UrlList = [\"https://pixabay.com/photos/friendship-fun-backlighting-funny-2366955/\",\"https://pixabay.com/photos/three-wheeler-tricycle-trike-locked-336700/\",\n",
    "                  \"https://pixabay.com/photos/hardwood-antique-backdrop-1851071/\",\"https://pixabay.com/photos/sculpture-sand-sand-sculpture-70271/\",\n",
    "                  \"https://pixabay.com/photos/lavender-lavender-field-894919/\",\"https://pixabay.com/illustrations/poison-bottle-medicine-old-symbol-1481596/\"\n",
    "                 ]   \n",
    "\n",
    "    \n",
    "    stud_calc = 0\n",
    "    studentList = []\n",
    "    #studentList = {}\n",
    "    while stud_calc < 10:\n",
    "        r_name = random.choice(rand_nameList)\n",
    "        r_gender = random.choice(rand_genderList)\n",
    "        r_Url = random.choice(rand_UrlList)\n",
    "            \n",
    "        #course/datasheet-info\n",
    "        r_courseName = random.choice(rand_courseNameList)\n",
    "        r_class = random.choice(rand_classroomList)\n",
    "        r_teacher = random.choice(rand_teacherList)\n",
    "        r_ECTS = random.choice(rand_ECTS_List)\n",
    "        r_grade = random.choice(rand_gradeList)\n",
    "\n",
    "        cours = Course(r_courseName,r_class,r_teacher,r_ECTS,r_grade)\n",
    "        dat_sheet = DataSheet(cours)\n",
    "        stud = Student(r_name,r_gender,dat_sheet,r_Url)\n",
    "        studentList.append((stud))\n",
    "       \n",
    "        stud_calc +=1\n",
    "    \n",
    "    \n",
    "    \n",
    "    return studentList\n",
    "generate_random_students()"
   ]
  },
  {
   "cell_type": "code",
   "execution_count": 23,
   "metadata": {},
   "outputs": [],
   "source": [
    "def read_students_to_CSV():\n",
    "    \n",
    "    students = generate_random_students()\n",
    "    \n",
    "    with open(\"student_info.csv\", \"w\") as csv_file:\n",
    "        csv_file.write(\n",
    "            \"stud_name,gender,course_name,teacher,ects,classroom,grade,img_url\\n\"\n",
    "        )\n",
    "        for s in students:\n",
    "            #for c in s.data_sheet:\n",
    "                csv_file.write(\n",
    "                \"{name},{gender},{course_name},{teacher},{ECTS},{classroom},{grade},{img_url}\\n\".format(\n",
    "                    name=s.name,\n",
    "                    gender= s.gender,               \n",
    "                    course_name= s.data_sheet.courses.name,\n",
    "                    teacher= s.data_sheet.courses.teacher,\n",
    "                    ECTS = s.data_sheet.courses.ECTS,\n",
    "                    classroom = s.data_sheet.courses.classroom,\n",
    "                    grade = s.data_sheet.courses.grade,\n",
    "                    img_url = s.image_url,\n",
    "                    )\n",
    "                ) \n",
    "   \n",
    "           \n",
    "#read_students_to_CSV()"
   ]
  },
  {
   "cell_type": "markdown",
   "metadata": {},
   "source": [
    "8. Read student data into a list of Students from a csv file: \n",
    "   1. loop through the list and print each student with name, img_url and avg_grade.\n",
    "   2. sort the list by avg_grade\n",
    "   3. create a bar chart with student_name on x and avg_grade on y-axis"
   ]
  },
  {
   "cell_type": "code",
   "execution_count": 27,
   "metadata": {},
   "outputs": [
    {
     "data": {
      "text/plain": [
       "[Student('Hanne','Female',<__main__.DataSheet object at 0x7f2c844623d0>,'https://pixabay.com/photos/three-wheeler-tricycle-trike-locked-336700/'),\n",
       " Student('Jane','Female',<__main__.DataSheet object at 0x7f2c84462910>,'https://pixabay.com/photos/three-wheeler-tricycle-trike-locked-336700/'),\n",
       " Student('Jane','Female',<__main__.DataSheet object at 0x7f2c84529e50>,'https://pixabay.com/illustrations/poison-bottle-medicine-old-symbol-1481596/'),\n",
       " Student('Siv','Female',<__main__.DataSheet object at 0x7f2c844a3b50>,'https://pixabay.com/illustrations/poison-bottle-medicine-old-symbol-1481596/'),\n",
       " Student('Jon','Male',<__main__.DataSheet object at 0x7f2c844a3dd0>,'https://pixabay.com/illustrations/poison-bottle-medicine-old-symbol-1481596/'),\n",
       " Student('Siv','Female',<__main__.DataSheet object at 0x7f2c84456650>,'https://pixabay.com/photos/hardwood-antique-backdrop-1851071/'),\n",
       " Student('Hans','Male',<__main__.DataSheet object at 0x7f2c84456f90>,'https://pixabay.com/photos/sculpture-sand-sand-sculpture-70271/'),\n",
       " Student('Siv','Female',<__main__.DataSheet object at 0x7f2c84468bd0>,'https://pixabay.com/photos/sculpture-sand-sand-sculpture-70271/'),\n",
       " Student('Jon','Male',<__main__.DataSheet object at 0x7f2c8450f150>,'https://pixabay.com/photos/three-wheeler-tricycle-trike-locked-336700/'),\n",
       " Student('Jane','Female',<__main__.DataSheet object at 0x7f2c8450f250>,'https://pixabay.com/photos/three-wheeler-tricycle-trike-locked-336700/')]"
      ]
     },
     "execution_count": 27,
     "metadata": {},
     "output_type": "execute_result"
    }
   ],
   "source": [
    "import csv\n",
    "\n",
    "def convert_CSV_to_list():\n",
    "\n",
    "    stud_list = []\n",
    "    with open('student_info.csv', 'r') as f:\n",
    "        reader = csv.reader(f)\n",
    "        reader.__next__()\n",
    "        for row in reader:\n",
    "            tmp_list = list(row)\n",
    "            stud_name = tmp_list[0]\n",
    "            stud_gender = tmp_list[1]\n",
    "            cours_name = tmp_list[2]\n",
    "            cours_class = tmp_list[5]\n",
    "            cours_teacher = tmp_list[3]\n",
    "            cours_ECTS = tmp_list[4]\n",
    "            cours_grade = tmp_list[6]\n",
    "            stud_imgURL = tmp_list[7]\n",
    "\n",
    "            cours_Obj = Course(cours_name,cours_class,cours_teacher,cours_ECTS,cours_grade)\n",
    "            dat_sheet = DataSheet(cours_Obj)\n",
    "            stud_Obj  = Student(stud_name,stud_gender,dat_sheet,stud_imgURL)\n",
    "\n",
    "            stud_list.append(stud_Obj)\n",
    "      \n",
    "    return stud_list\n",
    "\n",
    "\n",
    "#convert_CSV_to_list()"
   ]
  },
  {
   "cell_type": "code",
   "execution_count": 31,
   "metadata": {},
   "outputs": [
    {
     "data": {
      "text/plain": [
       "[['Hanne',\n",
       "  'https://pixabay.com/photos/three-wheeler-tricycle-trike-locked-336700/',\n",
       "  12.0],\n",
       " ['Jane',\n",
       "  'https://pixabay.com/photos/three-wheeler-tricycle-trike-locked-336700/',\n",
       "  8.666666666666666],\n",
       " ['Jon',\n",
       "  'https://pixabay.com/photos/three-wheeler-tricycle-trike-locked-336700/',\n",
       "  5.5],\n",
       " ['Hans',\n",
       "  'https://pixabay.com/photos/sculpture-sand-sand-sculpture-70271/',\n",
       "  10.0],\n",
       " ['Siv',\n",
       "  'https://pixabay.com/photos/sculpture-sand-sand-sculpture-70271/',\n",
       "  4.333333333333333]]"
      ]
     },
     "execution_count": 31,
     "metadata": {},
     "output_type": "execute_result"
    }
   ],
   "source": [
    "def get_average_grade():\n",
    "    \n",
    "    count_topics = 0\n",
    "    count_sum = 0\n",
    "    average = 0\n",
    "    average_list = []\n",
    "    tmp_list = []\n",
    "    students = convert_CSV_to_list()\n",
    "    \n",
    "    #sorting\n",
    "    students.sort(key=lambda x: x.name)\n",
    "    \n",
    "    names = []\n",
    "    for student in students:\n",
    "        names.append(student.name)\n",
    "    \n",
    "    #unique values\n",
    "    names_set = set(names)\n",
    "   \n",
    "    for name in names_set:\n",
    "        for student in students:\n",
    "            if(name == student.name):\n",
    "                img = student.image_url\n",
    "                count_topics += 1\n",
    "                count_sum += int(student.data_sheet.courses.grade)\n",
    "        average = count_sum/count_topics\n",
    "        tmp_list = [name,img,average]\n",
    "        average_list.append(tmp_list)\n",
    "        count_topics = 0\n",
    "        count_sum = 0\n",
    "        average = 0    \n",
    "    \n",
    "    return average_list\n",
    "\n",
    "#get_average_grade()\n"
   ]
  },
  {
   "cell_type": "code",
   "execution_count": 34,
   "metadata": {},
   "outputs": [
    {
     "data": {
      "image/png": "[encoded data removed]",
      "text/plain": [
       "<Figure size 432x288 with 1 Axes>"
      ]
     },
     "metadata": {
      "needs_background": "light"
     },
     "output_type": "display_data"
    }
   ],
   "source": [
    "import matplotlib.pyplot as plt \n",
    "\n",
    "def get_barChart_average():\n",
    "    average_list = get_average_grade()\n",
    "    \n",
    "    #sorting by average\n",
    "    average_list.sort(key=lambda x: x[2], reverse=True)\n",
    "\n",
    "    #creating the barchart\n",
    "    name_list = ([item[0] for item in average_list])\n",
    "    av_list = ([item[2] for item in average_list])\n",
    "   \n",
    "    plt.figure()\n",
    "    plt.bar(name_list, av_list, linewidth=5)\n",
    "\n",
    "    # Set chart title and label axes. \n",
    "    plt.title(\"Average Distribution\", fontsize=24)\n",
    "    plt.xlabel(\"Names\", fontsize=14)\n",
    "    plt.ylabel(\"Average\", fontsize=14)\n",
    "    # Set size of tick labels.\n",
    "    plt.tick_params(axis='both', labelsize=14)\n",
    "    plt.show()\n",
    "\n",
    "#get_barChart_average()"
   ]
  },
  {
   "cell_type": "markdown",
   "metadata": {},
   "source": [
    "Make a method on Student class that can show progression of the study in % (add up ECTS from all passed courses divided by total of 150 total points (equivalent to 5 semesters))"
   ]
  },
  {
   "cell_type": "code",
   "execution_count": 35,
   "metadata": {},
   "outputs": [
    {
     "data": {
      "text/plain": [
       "[['Hanne', 20.0],\n",
       " ['Jane', 26.666666666666664],\n",
       " ['Jon', 16.666666666666664],\n",
       " ['Hans', 3.333333333333333],\n",
       " ['Siv', 36.666666666666664]]"
      ]
     },
     "execution_count": 35,
     "metadata": {},
     "output_type": "execute_result"
    }
   ],
   "source": [
    "def get_progression_by_ects():\n",
    "    #getting the list from csv_file\n",
    "    students = convert_CSV_to_list()   \n",
    "    count_ects = 0\n",
    "    percent = 0\n",
    "    progression_list = []\n",
    "    tmp_list = []\n",
    "      \n",
    "    #sorting by names\n",
    "    students.sort(key=lambda x: x.name)\n",
    "    \n",
    "    names = []\n",
    "    for student in students:\n",
    "        names.append(student.name)\n",
    "    \n",
    "    #unique values\n",
    "    names_set = set(names)\n",
    "    for name in names_set:\n",
    "        for student in students:\n",
    "            if(name == student.name):\n",
    "                grade = int(student.data_sheet.courses.grade)\n",
    "                if(grade >= 2):\n",
    "                    count_ects += int(student.data_sheet.courses.ECTS)\n",
    "                \n",
    "        percent = (100/150)*count_ects        \n",
    "        tmp_list = [name,percent]\n",
    "        progression_list.append(tmp_list)\n",
    "        count_ects = 0\n",
    "        percent = 0\n",
    "    \n",
    "    return progression_list\n",
    "get_progression_by_ects()"
   ]
  },
  {
   "cell_type": "code",
   "execution_count": 37,
   "metadata": {},
   "outputs": [
    {
     "data": {
      "image/png": "[encoded data removed]",
      "text/plain": [
       "<Figure size 432x288 with 1 Axes>"
      ]
     },
     "metadata": {
      "needs_background": "light"
     },
     "output_type": "display_data"
    }
   ],
   "source": [
    "def get_barChart_progression():\n",
    "    progression = get_progression_by_ects()\n",
    "    \n",
    "    #sorting by progression\n",
    "    progression.sort(key=lambda x: x[1], reverse = True)\n",
    "\n",
    "    #creating the barchart\n",
    "    name_list = ([item[0] for item in progression])\n",
    "    av_list = ([item[1] for item in progression])\n",
    "   \n",
    "    plt.figure()\n",
    "    plt.bar(name_list, av_list, linewidth=5)\n",
    "\n",
    "    # Set chart title and label axes. \n",
    "    plt.title(\"Progression\", fontsize=24)\n",
    "    plt.xlabel(\"Names\", fontsize=14)\n",
    "    plt.ylabel(\"Percent\", fontsize=14)\n",
    "    # Set size of tick labels.\n",
    "    plt.tick_params(axis='both', labelsize=14)\n",
    "\n",
    "    plt.show()\n",
    "\n",
    "get_barChart_progression()"
   ]
  },
  {
   "cell_type": "code",
   "execution_count": null,
   "metadata": {},
   "outputs": [],
   "source": []
  }
 ],
 "metadata": {
  "kernelspec": {
   "display_name": "Python 3",
   "language": "python",
   "name": "python3"
  },
  "language_info": {
   "codemirror_mode": {
    "name": "ipython",
    "version": 3
   },
   "file_extension": ".py",
   "mimetype": "text/x-python",
   "name": "python",
   "nbconvert_exporter": "python",
   "pygments_lexer": "ipython3",
   "version": "3.7.6"
  }
 },
 "nbformat": 4,
 "nbformat_minor": 4
}
