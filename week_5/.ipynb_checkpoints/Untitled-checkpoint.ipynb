{
 "cells": [
  {
   "cell_type": "markdown",
   "metadata": {},
   "source": [
    "5. With data aggregation and data visualization answer the following questions:\n",
    "  1. What is the change in pct of divorced danes from 2008 to 2020?\n",
    "  "
   ]
  },
  {
   "cell_type": "code",
   "execution_count": 73,
   "metadata": {},
   "outputs": [
    {
     "name": "stdout",
     "output_type": "stream",
     "text": [
      "Fraskilte i første kvartal 2008:  428864\n",
      "Fraskilte i første kvartal 2020:  544588\n",
      "Procentvis ændring fra 2008-2020: 26.98\n"
     ]
    },
    {
     "data": {
      "text/html": [
       "<div>\n",
       "<style scoped>\n",
       "    .dataframe tbody tr th:only-of-type {\n",
       "        vertical-align: middle;\n",
       "    }\n",
       "\n",
       "    .dataframe tbody tr th {\n",
       "        vertical-align: top;\n",
       "    }\n",
       "\n",
       "    .dataframe thead th {\n",
       "        text-align: right;\n",
       "    }\n",
       "</style>\n",
       "<table border=\"1\" class=\"dataframe\">\n",
       "  <thead>\n",
       "    <tr style=\"text-align: right;\">\n",
       "      <th></th>\n",
       "      <th>OMRÅDE</th>\n",
       "      <th>CIVILSTAND</th>\n",
       "      <th>TID</th>\n",
       "      <th>INDHOLD</th>\n",
       "    </tr>\n",
       "  </thead>\n",
       "  <tbody>\n",
       "    <tr>\n",
       "      <th>0</th>\n",
       "      <td>Hele landet</td>\n",
       "      <td>Fraskilt</td>\n",
       "      <td>2008K1</td>\n",
       "      <td>428864</td>\n",
       "    </tr>\n",
       "    <tr>\n",
       "      <th>1</th>\n",
       "      <td>Hele landet</td>\n",
       "      <td>Fraskilt</td>\n",
       "      <td>2020K1</td>\n",
       "      <td>544588</td>\n",
       "    </tr>\n",
       "  </tbody>\n",
       "</table>\n",
       "</div>"
      ],
      "text/plain": [
       "        OMRÅDE CIVILSTAND     TID  INDHOLD\n",
       "0  Hele landet   Fraskilt  2008K1   428864\n",
       "1  Hele landet   Fraskilt  2020K1   544588"
      ]
     },
     "execution_count": 73,
     "metadata": {},
     "output_type": "execute_result"
    }
   ],
   "source": [
    "import pandas as pd\n",
    "import numpy as np\n",
    "\n",
    "url_fraskilt = 'https://api.statbank.dk/v1/data/FOLK1A/CSV?delimiter=Semicolon&OMR%C3%85DE=000&CIVILSTAND=F&Tid=2008K1%2C2020K1'\n",
    "df = pd.read_csv(url_fraskilt,sep=';')\n",
    "\n",
    "#finding the row and extracting 'INDHOLD' from it.\n",
    "fraskilte_2008 = df.iloc[0]['INDHOLD']\n",
    "fraskilte_2020 = df.iloc[1]['INDHOLD']\n",
    "\n",
    "diff_percent = round(((fraskilte_2020 - fraskilte_2008) / fraskilte_2008)*100, 2)\n",
    "\n",
    "\n",
    "\n",
    "print('Fraskilte i første kvartal 2008: ',fraskilte_2008)\n",
    "print('Fraskilte i første kvartal 2020: ',fraskilte_2020)\n",
    "print('Procentvis ændring fra 2008-2020:',diff_percent)\n",
    "\n",
    "df\n"
   ]
  },
  {
   "cell_type": "markdown",
   "metadata": {},
   "source": [
    "    B. Which of the 5 biggest cities has the highest percentage of 'Never Married'?"
   ]
  },
  {
   "cell_type": "code",
   "execution_count": 182,
   "metadata": {},
   "outputs": [
    {
     "name": "stdout",
     "output_type": "stream",
     "text": [
      "        område  alder civilstand     tid  Folketal den 1. i kvartalet\n",
      "0    København  I alt      I alt  2020K3                       633035\n",
      "1    København  I alt      Ugift  2020K3                       414218\n",
      "104     Odense  I alt      I alt  2020K3                       204718\n",
      "105     Odense  I alt      Ugift  2020K3                       112672\n",
      "130      Vejle  I alt      I alt  2020K3                       116468\n",
      "131      Vejle  I alt      Ugift  2020K3                        55161\n",
      "154     Aarhus  I alt      I alt  2020K3                       349433\n",
      "155     Aarhus  I alt      Ugift  2020K3                       208470\n",
      "192    Aalborg  I alt      I alt  2020K3                       217316\n",
      "193    Aalborg  I alt      Ugift  2020K3                       118694\n",
      "{'København': 65.43, 'Odense': 58.4, 'Vejle': 40.41, 'Aarhus': 46.62, 'Aalborg': 49.83}\n",
      "City with the highest percentage of never married is:  København\n"
     ]
    }
   ],
   "source": [
    "url_ugifte = 'https://api.statbank.dk/v1/data/FOLK1A/CSV?delimiter=Semicolon&allowVariablesInHead=true&allowCodeOverrideInColumnNames=true&OMR%C3%85DE=101%2C147%2C155%2C185%2C165%2C151%2C153%2C157%2C159%2C161%2C163%2C167%2C169%2C183%2C173%2C175%2C187%2C201%2C240%2C210%2C250%2C190%2C270%2C260%2C217%2C219%2C223%2C230%2C400%2C411%2C253%2C259%2C350%2C265%2C269%2C320%2C376%2C316%2C326%2C360%2C370%2C306%2C329%2C330%2C340%2C336%2C390%2C420%2C440%2C482%2C410%2C450%2C461%2C479%2C492%2C530%2C561%2C563%2C607%2C510%2C621%2C540%2C550%2C573%2C575%2C630%2C580%2C710%2C766%2C615%2C707%2C727%2C730%2C741%2C740%2C746%2C706%2C751%2C657%2C661%2C756%2C665%2C760%2C779%2C671%2C791%2C810%2C813%2C860%2C849%2C825%2C846%2C773%2C840%2C787%2C820%2C851&ALDER=IALT&CIVILSTAND=TOT%2CU&Tid=2020K3'\n",
    "df2 = pd.read_csv(url_ugifte,sep=';')\n",
    "\n",
    "#finding cities/totalsize\n",
    "cities_totalsize = df2.loc[df2.civilstand == 'I alt']\n",
    "\n",
    "#finding the 5 biggest cities which is København, Aarhus, Aalborg, Odense, Vejle \n",
    "top_5_cities = cities_totalsize.nlargest(5, ['Folketal den 1. i kvartalet']) \n",
    "\n",
    "#getting the unmarried rows as well.\n",
    "k =  df2[df2['område'].isin(['København', 'Aarhus', 'Aalborg', 'Odense','Vejle'])]\n",
    "print(k)\n",
    "\n",
    "list_cities = ['København','Odense','Vejle','Aarhus','Aalborg']\n",
    "myDict = {}\n",
    "percentage_list = []\n",
    "\n",
    "x = 0\n",
    "while x < len(k):\n",
    "    tmp_ialt = df2.iloc[x]['Folketal den 1. i kvartalet']\n",
    "    tmp_ugift = df2.iloc[x+1]['Folketal den 1. i kvartalet']\n",
    "    percent = round((tmp_ugift/tmp_ialt )*100, 2)\n",
    "    percentage_list.append(percent)\n",
    "    x +=2\n",
    "\n",
    "#using a dict comprehension to convert cities and percentages into a dict\n",
    "res = {list_cities[i]: percentage_list[i] for i in range(len(list_cities))} \n",
    "print(res)\n",
    "print('City with the highest percentage of never married is: ', max(res, key=res.get))"
   ]
  },
  {
   "cell_type": "markdown",
   "metadata": {},
   "source": [
    "C. Show a bar chart of changes in marrital status in Copenhagen from 2008 till now"
   ]
  },
  {
   "cell_type": "code",
   "execution_count": 235,
   "metadata": {
    "scrolled": true
   },
   "outputs": [
    {
     "data": {
      "image/png": "[encoded data removed]",
      "text/plain": [
       "<Figure size 432x288 with 1 Axes>"
      ]
     },
     "metadata": {
      "needs_background": "light"
     },
     "output_type": "display_data"
    }
   ],
   "source": [
    "import matplotlib.pyplot as plt\n",
    "import numpy as np\n",
    "\n",
    "url_marital_status = 'https://api.statbank.dk/v1/data/FOLK1A/CSV?OMR%C3%85DE=101&CIVILSTAND=U%2CG%2CE%2CF&Tid=2008K1%2C2009K1%2C2010K1%2C2011K1%2C2012K1%2C2013K1%2C2014K1%2C2015K1%2C2016K1%2C2017K1%2C2018K1%2C2019K1%2C2020K1'\n",
    "df3 = pd.read_csv(url_marital_status,sep=';')\n",
    "\n",
    "divorced_list = df3.loc[df3['CIVILSTAND'] == 'Fraskilt']['INDHOLD'].values.tolist()\n",
    "unmarried_list = df3.loc[df3['CIVILSTAND']== 'Ugift']['INDHOLD'].values.tolist()\n",
    "sep_married_list = df3.loc[df3['CIVILSTAND']== 'Gift/separeret']['INDHOLD'].values.tolist()\n",
    "enke_list = df3.loc[(df3['CIVILSTAND'] == 'Enke/enkemand')]['INDHOLD'].values.tolist()\n",
    "\n",
    "list_years = df3.TID.unique()\n",
    "x = np.arange(len(list_years))\n",
    "\n",
    "width = 0.20\n",
    "\n",
    "plt.bar(x - width, unmarried_list, width=width, label=\"Ugift\")\n",
    "plt.bar(x, sep_married_list, width=width, label=\"Gift/separeret\")\n",
    "plt.bar(x + width, divorced_list, width=width, label=\"Fraskilt\")\n",
    "plt.bar(x + (width * 2), enke_list, width=width, label=\"Enke/enkemand\")\n",
    "\n",
    "plt.xticks(ticks=x, labels=list_years, rotation=\"vertical\")\n",
    "plt.title(\"Marital status in Copenhagen anno 08-20\")\n",
    "plt.xlabel(\"Years\")\n",
    "plt.ylabel(\"Population\")\n",
    "plt.legend()\n",
    "plt.show()\n",
    "\n"
   ]
  },
  {
   "cell_type": "markdown",
   "metadata": {},
   "source": [
    "D. Show a bar chart of 'Married' and 'Never Married' for all ages in DK (Hint: 2 bars of different color)"
   ]
  },
  {
   "cell_type": "code",
   "execution_count": 260,
   "metadata": {},
   "outputs": [
    {
     "data": {
      "image/png": "[encoded data removed]",
      "text/plain": [
       "<Figure size 432x288 with 1 Axes>"
      ]
     },
     "metadata": {
      "needs_background": "light"
     },
     "output_type": "display_data"
    }
   ],
   "source": [
    "url_married_and_neverMarried = 'https://api.statbank.dk/v1/data/FOLK1A/CSV?OMR%C3%85DE=000&ALDER=*&CIVILSTAND=U%2CG&Tid=2020K1'\n",
    "df4 = pd.read_csv(url_married_and_neverMarried,sep=';')\n",
    "\n",
    "\n",
    "\n",
    "ages = np.arange(len(df4.ALDER.unique())-1)\n",
    "\n",
    "notMarried = df4.loc[(df4['ALDER'] != 'I alt') & (df4['CIVILSTAND'] == 'Ugift')]['INDHOLD'].values.tolist()\n",
    "married = df4.loc[(df4['ALDER'] != 'I alt') & (df4['CIVILSTAND'] == 'Gift/separeret')]['INDHOLD'].values.tolist()\n",
    "\n",
    "\n",
    "plt.bar(ages - 0.2, notMarried,width = 0.3, label=\"Ugift\")\n",
    "plt.bar(ages, married,width = 0.3, label=\"Gift/separeret\")\n",
    "\n",
    "plt.title(\"Married/Not-married for all ages\")\n",
    "plt.xlabel(\"Age\")\n",
    "plt.ylabel(\"Population\")\n",
    "\n",
    "plt.legend()\n",
    "plt.show()\n",
    "\n",
    "\n",
    "\n"
   ]
  },
  {
   "cell_type": "code",
   "execution_count": null,
   "metadata": {},
   "outputs": [],
   "source": []
  }
 ],
 "metadata": {
  "kernelspec": {
   "display_name": "Python 3",
   "language": "python",
   "name": "python3"
  },
  "language_info": {
   "codemirror_mode": {
    "name": "ipython",
    "version": 3
   },
   "file_extension": ".py",
   "mimetype": "text/x-python",
   "name": "python",
   "nbconvert_exporter": "python",
   "pygments_lexer": "ipython3",
   "version": "3.7.6"
  }
 },
 "nbformat": 4,
 "nbformat_minor": 4
}
