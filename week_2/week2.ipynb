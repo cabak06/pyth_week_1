{
 "cells": [
  {
   "cell_type": "markdown",
   "metadata": {},
   "source": [
    "## Exercise 1\n",
    "- Create a program that can take an input and an output file and write the content of the input file into a list, the console or to the output file.\n",
    "\n",
    "1. Write a python file with 3 functions:\n",
    "  1. `def print_file_content(file)` that can print content of a text file to the console\n",
    "  2. `def write_list_to_file(output_file, lst)` that can take a list or tuple and write each element to a new line in file\n",
    "    1. create a helper function that gets an arbitrary number of strings instead of a list\n",
    "  3. `def read_file(input_file)` that take a csv file and read each row into a list\n",
    "2. Add a functionality so that the program can be called from cli with 2 arguments\n",
    "  1. path to input file\n",
    "  2. an argument `--file file_name` to be used as the output file to write to.\n",
    "  3. if only the input file is given write output to console\n",
    "  4. if the input file is given with a list of extra words add those words to the output (whether to file or console)\n",
    "3. Add 'help' attributes to each cli argument to describe how the module is used  \n"
   ]
  },
  {
   "cell_type": "code",
   "execution_count": null,
   "metadata": {},
   "outputs": [],
   "source": [
    "#def print_file_content(file) that can print content of a text file to the console\n",
    "\n",
    "def print_file_content(file):\n",
    "    with open(file,'r') as file_object:\n",
    "        lines = file_object.readlines()\n",
    "        print(lines)\n",
    "\n",
    "\n",
    "print_file_content('file_to_read.txt')\n"
   ]
  },
  {
   "cell_type": "code",
   "execution_count": null,
   "metadata": {},
   "outputs": [],
   "source": [
    "#def write_list_to_file(output_file, lst) that can take a list or tuple and write each element to a new line in file\n",
    "\n",
    "temp_list = ['This','is','a','short','list','version','2.0']\n",
    "\n",
    "def write_list_to_file(output_file, lst):\n",
    "    with open(output_file,'w') as file_object:\n",
    "        for element in lst:\n",
    "            file_object.write(element +'\\n')\n",
    "\n",
    "write_list_to_file('output_file.txt',temp_list)\n"
   ]
  },
  {
   "cell_type": "code",
   "execution_count": null,
   "metadata": {},
   "outputs": [],
   "source": [
    "# A) create a helper function that gets an arbitrary number of strings instead of a list\n",
    "\n",
    "def helper_function(*strings):\n",
    "    a_list = []\n",
    "    for str_ in strings:\n",
    "        a_list.append(str_)\n",
    "    return a_list\n",
    "\n",
    "\n",
    "def write_list_to_file(output_file, helper_function):\n",
    "    with open(output_file,'w') as file_object:\n",
    "        for element in helper_function:\n",
    "            file_object.write(element +'\\n')\n",
    "\n",
    "write_list_to_file('output_file.txt',helper_function('helper_function*','has','been','used'))\n"
   ]
  },
  {
   "cell_type": "code",
   "execution_count": null,
   "metadata": {},
   "outputs": [],
   "source": [
    "import argparse\n",
    "import sys\n",
    "#def read_file(input_file) that take a csv file and read each row into a list\n",
    "\n",
    "\n",
    "def read_file():\n",
    "\n",
    "    if __name__==\"__main__\":\n",
    "        \n",
    "        parser = argparse.ArgumentParser()\n",
    "        parser.add_argument(\"read_from\", help=\"file_path to be read from\")\n",
    "        parser.add_argument(\"--write_to\", help=\"file_path to write to\")\n",
    "        parser.add_argument(\"--additional_text\", help=\"not part of the file_paths\")\n",
    "        args = parser.parse_args()\n",
    "        \n",
    "        arg_list = sys.argv\n",
    "\n",
    "        if len(arg_list) == 2:\n",
    "            a_list = []\n",
    "            with open(args.read_from) as f:\n",
    "                content = f.readlines()\n",
    "            for line in content:\n",
    "                a_list.append(line)\n",
    "            print(a_list)\n",
    "            print(len(sys.argv))\n",
    "        \n",
    "        if len(arg_list) == 4:\n",
    "            a_list = []\n",
    "            with open(args.read_from) as f:\n",
    "                content = f.readlines()\n",
    "            for line in content:\n",
    "                a_list.append(line)\n",
    "            with open(args.write_to,'w') as v:\n",
    "                for line in content:\n",
    "                    v.write(line)\n",
    "                    \n",
    "        if len(arg_list) > 4:\n",
    "            a_list = []\n",
    "            with open(args.read_from) as f:\n",
    "                content = f.readlines()\n",
    "            for line in content:\n",
    "                a_list.append(line)\n",
    "            with open(args.write_to,'w') as v:\n",
    "                for line in content:\n",
    "                    v.write(line)\n",
    "            new_list = arg_list[4:]\n",
    "            x = 1\n",
    "            while x < len(new_list):\n",
    "                print(new_list[x])\n",
    "                x+=2\n",
    "              \n",
    "read_file()\n",
    "\n",
    "# jeg kunne desværre ikke finde ud af at få Jupyter_notebook til at køre programmet uden CMD adgang.\n",
    "# programmet kører fint på mit \"lokale\" miljø.. "
   ]
  },
  {
   "cell_type": "markdown",
   "metadata": {},
   "source": [
    "## Exercise 2\n",
    "- Create a module called utils.py and put the following functions inside:\n",
    "  1. first function takes a path to a folder and writes all filenames in the folder to a specified output file\n",
    "  2. second takes a path to a folder and write all filenames recursively (files of all sub folders to)\n",
    "  3. third takes a list of filenames and print the first line of each\n",
    "  4. fourth takes a list of filenames and print each line that contains an email (just look for @)\n",
    "  5. fifth takes a list of md files and writes all headlines (lines starting with #) to a file\n",
    "- Make sure your module can be called both from cli and imported to another module\n",
    "- Create a new module that imports utils.py and test each function."
   ]
  },
  {
   "cell_type": "markdown",
   "metadata": {},
   "source": [
    "## Testing the utils-module\n",
    "\n",
    "\n"
   ]
  },
  {
   "cell_type": "code",
   "execution_count": 14,
   "metadata": {},
   "outputs": [],
   "source": [
    "import utils as util\n",
    "\n",
    "#Testing the first function... output is handed over to exercise2.txt\n",
    "\n",
    "util.first_function('./')"
   ]
  },
  {
   "cell_type": "code",
   "execution_count": 15,
   "metadata": {},
   "outputs": [
    {
     "ename": "AttributeError",
     "evalue": "'str' object has no attribute 'isdir'",
     "output_type": "error",
     "traceback": [
      "\u001b[0;31m---------------------------------------------------------------------------\u001b[0m",
      "\u001b[0;31mAttributeError\u001b[0m                            Traceback (most recent call last)",
      "\u001b[0;32m<ipython-input-15-7e8598e954d0>\u001b[0m in \u001b[0;36m<module>\u001b[0;34m\u001b[0m\n\u001b[1;32m      2\u001b[0m \u001b[0;31m# it works perfectly when running on VS.. but not in Notebook!!\u001b[0m\u001b[0;34m\u001b[0m\u001b[0;34m\u001b[0m\u001b[0;34m\u001b[0m\u001b[0m\n\u001b[1;32m      3\u001b[0m \u001b[0;34m\u001b[0m\u001b[0m\n\u001b[0;32m----> 4\u001b[0;31m \u001b[0mutil\u001b[0m\u001b[0;34m.\u001b[0m\u001b[0msecond_function\u001b[0m\u001b[0;34m(\u001b[0m\u001b[0;34m'./'\u001b[0m\u001b[0;34m)\u001b[0m\u001b[0;34m\u001b[0m\u001b[0;34m\u001b[0m\u001b[0m\n\u001b[0m",
      "\u001b[0;32m~/my_notebooks/week_2/utils.py\u001b[0m in \u001b[0;36msecond_function\u001b[0;34m(path_to_folder)\u001b[0m\n\u001b[1;32m     26\u001b[0m             \u001b[0;32mfor\u001b[0m \u001b[0msubfile\u001b[0m \u001b[0;32min\u001b[0m \u001b[0msub_files\u001b[0m\u001b[0;34m:\u001b[0m\u001b[0;34m\u001b[0m\u001b[0;34m\u001b[0m\u001b[0m\n\u001b[1;32m     27\u001b[0m                 \u001b[0mlisten\u001b[0m\u001b[0;34m.\u001b[0m\u001b[0mappend\u001b[0m\u001b[0;34m(\u001b[0m\u001b[0msubfile\u001b[0m\u001b[0;34m)\u001b[0m\u001b[0;34m\u001b[0m\u001b[0;34m\u001b[0m\u001b[0m\n\u001b[0;32m---> 28\u001b[0;31m         \u001b[0;32melse\u001b[0m\u001b[0;34m:\u001b[0m\u001b[0;34m\u001b[0m\u001b[0;34m\u001b[0m\u001b[0m\n\u001b[0m\u001b[1;32m     29\u001b[0m             \u001b[0mlisten\u001b[0m\u001b[0;34m.\u001b[0m\u001b[0mappend\u001b[0m\u001b[0;34m(\u001b[0m\u001b[0mfile\u001b[0m\u001b[0;34m)\u001b[0m\u001b[0;34m\u001b[0m\u001b[0;34m\u001b[0m\u001b[0m\n\u001b[1;32m     30\u001b[0m \u001b[0;34m\u001b[0m\u001b[0m\n",
      "\u001b[0;31mAttributeError\u001b[0m: 'str' object has no attribute 'isdir'"
     ]
    }
   ],
   "source": [
    "#Testing the second function.. \n",
    "# it works perfectly when running on VS.. but not in Notebook!!\n",
    "\n",
    "util.second_function('./')"
   ]
  },
  {
   "cell_type": "code",
   "execution_count": 16,
   "metadata": {},
   "outputs": [
    {
     "name": "stdout",
     "output_type": "stream",
     "text": [
      "Car,Model,Volume,Weight,CO2\n",
      "\n",
      "\n",
      "cars.csv\n",
      "\n",
      "\n",
      "Hello .. this is the content of a file...!\n",
      "\n",
      "helper_function*\n",
      "\n",
      "\n"
     ]
    }
   ],
   "source": [
    "#Testing the third function... \n",
    "\n",
    "util.third_function(util.file_system)\n"
   ]
  },
  {
   "cell_type": "code",
   "execution_count": 11,
   "metadata": {},
   "outputs": [
    {
     "name": "stdout",
     "output_type": "stream",
     "text": [
      "this line does contain @sfhkaj\n",
      "\n",
      "\n",
      "this line does contain @.sjdfhk\n",
      "\n",
      "\n",
      "this line does contain @.sjdfhk\n",
      "\n",
      "\n"
     ]
    }
   ],
   "source": [
    "#Testing the fourth function\n",
    "\n",
    "#util.fourth_function(util.mail_system)\n",
    "\n"
   ]
  },
  {
   "cell_type": "code",
   "execution_count": 17,
   "metadata": {},
   "outputs": [],
   "source": [
    "#Testing the fifth function.. writing to: md_output_file.txt\n",
    "\n",
    "util.fifth_function(util.md_files,'md_output_file.txt')\n",
    "\n"
   ]
  },
  {
   "cell_type": "code",
   "execution_count": null,
   "metadata": {},
   "outputs": [],
   "source": []
  }
 ],
 "metadata": {
  "kernelspec": {
   "display_name": "Python 3",
   "language": "python",
   "name": "python3"
  },
  "language_info": {
   "codemirror_mode": {
    "name": "ipython",
    "version": 3
   },
   "file_extension": ".py",
   "mimetype": "text/x-python",
   "name": "python",
   "nbconvert_exporter": "python",
   "pygments_lexer": "ipython3",
   "version": "3.7.6"
  }
 },
 "nbformat": 4,
 "nbformat_minor": 4
}
