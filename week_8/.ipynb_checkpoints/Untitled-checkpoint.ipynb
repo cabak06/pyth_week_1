{
 "cells": [
  {
   "cell_type": "markdown",
   "metadata": {},
   "source": [
    "# Python week 8 assignment\n",
    "\n",
    "* Make a few person objects. A person only has an id and a name. perform atleast 1 of each CRUD operation with the person objects. (GET,POST,DEL,PUT)\n",
    "\n",
    "\n",
    "* With pandas or any other tool you like, extract data from pokemon_data.csv\n",
    "\n",
    "    * Make a dict showing us each type1 there is, and how many times that type was represented.\n",
    "    * Do the same but now check type2 aswell, there are duplicates but leave that for the next task (Poison is found in both type1 and type2)\n",
    "    * Filter the results so duplicates no longer count twice, make a bar chart of the results. X-axis should show names and Y-axis should show how many."
   ]
  },
  {
   "cell_type": "markdown",
   "metadata": {},
   "source": [
    "###### Make a few person objects. A person only has an id and a name. perform atleast 1 of each CRUD operation with the person objects. (GET,POST,DEL,PUT)\n",
    "\n"
   ]
  },
  {
   "cell_type": "code",
   "execution_count": null,
   "metadata": {},
   "outputs": [],
   "source": [
    "# CRUD operations is done in the file called flask_app.py\n"
   ]
  },
  {
   "cell_type": "markdown",
   "metadata": {},
   "source": [
    "###### With pandas or any other tool you like, extract data from pokemon_data.csv \n",
    "* Make a dict showing us each type1 there is, and how many times that type was represented."
   ]
  },
  {
   "cell_type": "code",
   "execution_count": 21,
   "metadata": {},
   "outputs": [
    {
     "name": "stdout",
     "output_type": "stream",
     "text": [
      "Relation between type 1 and their representation/occurrence: \n",
      "{'Steel': 27, 'Dark': 31, 'Ground': 32, 'Fire': 52, 'Bug': 69, 'Flying': 4, 'Fairy': 17, 'Dragon': 32, 'Ghost': 32, 'Rock': 44, 'Poison': 28, 'Fighting': 27, 'Grass': 70, 'Psychic': 57, 'Ice': 24, 'Electric': 44, 'Normal': 98, 'Water': 112}\n"
     ]
    }
   ],
   "source": [
    "import pandas as pd\n",
    "\n",
    "data = pd.read_csv('pokemon.csv')\n",
    "\n",
    "# Dataframe\n",
    "data = pd.read_csv('pokemon.csv')\n",
    "\n",
    "# extracting data from column Type1\n",
    "df_type1 = pd.DataFrame(data, columns= ['Type 1'])\n",
    "\n",
    "# full list of type1\n",
    "list_of_type1 = []\n",
    "for i, r in df_type1.iterrows():\n",
    "    list_of_type1.append((r['Type 1']))\n",
    "\n",
    "# unique values of type1\n",
    "unique_set_type1 = set(list_of_type1)\n",
    "\n",
    "# dictionary of type1's with default value set to 0\n",
    "result = dict.fromkeys(unique_set_type1, 0)\n",
    "\n",
    "#looping through full_List and counting for matches\n",
    "for element in list_of_type1:\n",
    "  for key in result:\n",
    "    if element == key:\n",
    "      value = result[key]\n",
    "      value +=1\n",
    "      result[key] = value\n",
    "\n",
    "print('Relation between type 1 and their representation/occurrence: ')\n",
    "print(result)\n",
    "\n",
    "\n",
    "\n",
    "    \n"
   ]
  },
  {
   "cell_type": "markdown",
   "metadata": {},
   "source": [
    "###### Do the same but now check type2 aswell, there are duplicates but leave that for the next task"
   ]
  },
  {
   "cell_type": "code",
   "execution_count": 17,
   "metadata": {},
   "outputs": [
    {
     "name": "stdout",
     "output_type": "stream",
     "text": [
      "{'Steel': 71, nan: 0, 'Fire': 76, 'Rock': 72, 'Fighting': 79, 'Psychic': 123, 'Water': 140, 'Ground': 102, 'Ghost': 60, 'Poison': 96, 'Electric': 56, 'Normal': 106, 'Grass': 120, 'Dark': 71, 'Bug': 75, 'Flying': 198, 'Fairy': 63, 'Ice': 52, 'Dragon': 68}\n"
     ]
    }
   ],
   "source": [
    "# The data has been filtered for removal of duplicates.\n",
    "\n",
    "df_type2 = pd.DataFrame(data, columns= ['Type 2'])\n",
    "\n",
    "# full list of type2\n",
    "list_of_type2 = []\n",
    "for i, r in df_type2.iterrows():\n",
    "    list_of_type2.append((r['Type 2']))\n",
    "\n",
    "list_of_types = list_of_type1\n",
    "\n",
    "# merging type 1 and 2\n",
    "for t_pe in list_of_type2:\n",
    "  list_of_types.append(t_pe)\n",
    "\n",
    "# unique values of type 1 and type 2\n",
    "unique_set_types = set(list_of_types)\n",
    "\n",
    "# dictionary of types with default value set to 0\n",
    "results = dict.fromkeys(unique_set_types, 0)\n",
    "\n",
    "#looping through full_List of both types and counting matches\n",
    "for element in list_of_types:\n",
    "  for key in results:\n",
    "    if element == key:\n",
    "      value = results[key]\n",
    "      value +=1\n",
    "      results[key] = value\n",
    "\n",
    "    \n",
    "print(results)"
   ]
  },
  {
   "cell_type": "markdown",
   "metadata": {},
   "source": [
    "##### Filter the results so duplicates no longer count twice, make a bar chart of the results. X-axis should show names and Y-axis should show how many."
   ]
  },
  {
   "cell_type": "code",
   "execution_count": 37,
   "metadata": {},
   "outputs": [
    {
     "data": {
      "image/png": "[encoded data removed]",
      "text/plain": [
       "<Figure size 432x288 with 1 Axes>"
      ]
     },
     "metadata": {
      "needs_background": "light"
     },
     "output_type": "display_data"
    }
   ],
   "source": [
    "import matplotlib.pyplot as plt\n",
    "\n",
    "#sort the dict\n",
    "sorted_by_values = sorted(results.items(), key=lambda x:x[1], reverse=True)\n",
    "\n",
    "#plotting\n",
    "list_bar_x = []\n",
    "list_bar_y = []\n",
    "for a in sorted_by_values:\n",
    "   list_bar_x.append(str(a[0]))\n",
    "   list_bar_y.append(a[1])\n",
    "\n",
    "\n",
    "plt.figure()\n",
    "plt.bar(list_bar_x,list_bar_y, linewidth=5)\n",
    "\n",
    "# Set chart title and label axes. \n",
    "plt.title(\"Pokemon Type-Occurrences\", fontsize=15)\n",
    "plt.xlabel(\"Type\", fontsize=14)\n",
    "plt.ylabel(\"counts\", fontsize=14)\n",
    "plt.xticks(rotation=90)\n",
    " # Set size of tick labels.\n",
    "plt.tick_params(axis='both', labelsize=14)\n",
    "plt.show()\n"
   ]
  },
  {
   "cell_type": "code",
   "execution_count": null,
   "metadata": {},
   "outputs": [],
   "source": [
    "# Nedenstående er ikke en del af ugentlig opgave, men class-exercises."
   ]
  },
  {
   "cell_type": "code",
   "execution_count": 1,
   "metadata": {
    "scrolled": true
   },
   "outputs": [
    {
     "name": "stdout",
     "output_type": "stream",
     "text": [
      "<mysql.connector.connection_cext.CMySQLConnection object at 0x7f910cb1c690>\n",
      "(1, 'Freddy M', 'Hallway 22, 34322 moral county', 1000.0, datetime.datetime(2002, 2, 3, 23, 0))\n",
      "(2, 'Janice F', 'Hallway 24, 34322 moral county', 2000.0, datetime.datetime(2001, 2, 4, 23, 0))\n",
      "(4, 'Freddy MÃ¥lÃ¸v', 'Hallway 22, 34322 moral county', 1000.0, datetime.datetime(2002, 2, 3, 23, 0))\n"
     ]
    },
    {
     "data": {
      "text/html": [
       "<div>\n",
       "<style scoped>\n",
       "    .dataframe tbody tr th:only-of-type {\n",
       "        vertical-align: middle;\n",
       "    }\n",
       "\n",
       "    .dataframe tbody tr th {\n",
       "        vertical-align: top;\n",
       "    }\n",
       "\n",
       "    .dataframe thead th {\n",
       "        text-align: right;\n",
       "    }\n",
       "</style>\n",
       "<table border=\"1\" class=\"dataframe\">\n",
       "  <thead>\n",
       "    <tr style=\"text-align: right;\">\n",
       "      <th></th>\n",
       "      <th>make</th>\n",
       "      <th>model</th>\n",
       "      <th>year</th>\n",
       "      <th>price</th>\n",
       "    </tr>\n",
       "  </thead>\n",
       "  <tbody>\n",
       "    <tr>\n",
       "      <th>0</th>\n",
       "      <td>vw</td>\n",
       "      <td>up</td>\n",
       "      <td>2018</td>\n",
       "      <td>123000</td>\n",
       "    </tr>\n",
       "    <tr>\n",
       "      <th>1</th>\n",
       "      <td>audi</td>\n",
       "      <td>a6</td>\n",
       "      <td>2011</td>\n",
       "      <td>85000</td>\n",
       "    </tr>\n",
       "    <tr>\n",
       "      <th>2</th>\n",
       "      <td>citroen</td>\n",
       "      <td>c3</td>\n",
       "      <td>2019</td>\n",
       "      <td>143000</td>\n",
       "    </tr>\n",
       "  </tbody>\n",
       "</table>\n",
       "</div>"
      ],
      "text/plain": [
       "      make model  year   price\n",
       "0       vw    up  2018  123000\n",
       "1     audi    a6  2011   85000\n",
       "2  citroen    c3  2019  143000"
      ]
     },
     "execution_count": 1,
     "metadata": {},
     "output_type": "execute_result"
    }
   ],
   "source": [
    "import mysql.connector as mysql\n",
    "\n",
    "\n",
    "## connecting to the database using 'connect()' method\n",
    "db = mysql.connect(\n",
    "    # connect to the mysql server running in container with service name: db. CAUTION data here are not persisted past container lifespan\n",
    "    host = \"db\",\n",
    "    user = \"root\",\n",
    "    passwd = \"root\",\n",
    "    db = \"db\"\n",
    "    #,charset='latin1'\n",
    "    #,collation='latin1_danish_ci'\n",
    ")\n",
    "print(db)\n",
    "db.set_charset_collation('utf8')\n",
    "\n",
    "\n",
    "#Making the exercise\n",
    "mycursor = db.cursor()\n",
    "sql = \"SELECT * FROM ex1 WHERE account < 3000\"\n",
    "mycursor.execute(sql)\n",
    "my_result = mycursor.fetchall()\n",
    "for i in my_result:\n",
    "    print(i)\n",
    "\n",
    "\n",
    "\n",
    "#cnx = pymysql.connect(user='dev', password='ax2',host='127.0.0.1',port=3307,db='test') \n",
    "con_str = \"mysql+mysqlconnector://root:root@db/tester\"\n",
    "\n",
    "#connection = engine.raw_connection()\n",
    "df = pd.DataFrame({'make' : ['vw', 'audi', 'citroen'],\n",
    "                  'model':['up','a6','c3'],\n",
    "                  'year' :['2018','2011','2019'], \n",
    "                  'price':['123000', '85000', '143000']})\n",
    "df = df.applymap(str)\n",
    "#df.to_sql('cars',con_str, if_exists='append', index = False)\n",
    "df    \n"
   ]
  },
  {
   "cell_type": "code",
   "execution_count": null,
   "metadata": {},
   "outputs": [],
   "source": []
  }
 ],
 "metadata": {
  "kernelspec": {
   "display_name": "Python 3",
   "language": "python",
   "name": "python3"
  },
  "language_info": {
   "codemirror_mode": {
    "name": "ipython",
    "version": 3
   },
   "file_extension": ".py",
   "mimetype": "text/x-python",
   "name": "python",
   "nbconvert_exporter": "python",
   "pygments_lexer": "ipython3",
   "version": "3.7.6"
  }
 },
 "nbformat": 4,
 "nbformat_minor": 4
}
