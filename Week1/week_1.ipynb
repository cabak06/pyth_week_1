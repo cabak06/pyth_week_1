{
 "cells": [
  {
   "cell_type": "code",
   "execution_count": 4,
   "metadata": {},
   "outputs": [
    {
     "name": "stdout",
     "output_type": "stream",
     "text": [
      "['Hans', 'Henrik', 'Harry']\n"
     ]
    }
   ],
   "source": [
    "# QUESTION 1\n",
    "\n",
    "#Create 5 list comprehensions to solve the following 5 problems:\n",
    "\n",
    "# A) Iterate a list of names to return a list of the names starting with H\n",
    "\n",
    "names = ['Hans', 'Joergen', 'Malthe', 'Henrik', 'Harry', 'Soeren']\n",
    "\n",
    "names_with_H = [name for name in names if name.startswith('H')]\n",
    "print(names_with_H)\n",
    "\n"
   ]
  },
  {
   "cell_type": "code",
   "execution_count": 12,
   "metadata": {
    "scrolled": true
   },
   "outputs": [
    {
     "name": "stdout",
     "output_type": "stream",
     "text": [
      "[1, 8, 27, 64, 125, 216, 343, 512, 729, 1000, 1331, 1728, 2197, 2744, 3375, 4096, 4913, 5832, 6859, 8000, 9261, 10648, 12167, 13824, 15625, 17576, 19683, 21952, 24389, 27000, 29791, 32768, 35937, 39304, 42875, 46656, 50653, 54872, 59319, 64000, 68921, 74088, 79507, 85184, 91125, 97336, 103823, 110592, 117649, 125000, 132651, 140608, 148877, 157464, 166375, 175616, 185193, 195112, 205379, 216000, 226981, 238328, 250047, 262144, 274625, 287496, 300763, 314432, 328509, 343000, 357911, 373248, 389017, 405224, 421875, 438976, 456533, 474552, 493039, 512000, 531441, 551368, 571787, 592704, 614125, 636056, 658503, 681472, 704969, 729000, 753571, 778688, 804357, 830584, 857375, 884736, 912673, 941192, 970299, 1000000]\n"
     ]
    }
   ],
   "source": [
    "# B) In one line create a list of the numbers 1-100 to the power of 3\n",
    "\n",
    "numbers_on_fire = [number **3 for number in range(1,101)]\n",
    "print(numbers_on_fire)\n"
   ]
  },
  {
   "cell_type": "code",
   "execution_count": 13,
   "metadata": {},
   "outputs": [
    {
     "name": "stdout",
     "output_type": "stream",
     "text": [
      "[(4, 'Hans'), (7, 'Joergen'), (6, 'Malthe'), (6, 'Henrik'), (5, 'Harry'), (6, 'Soeren')]\n"
     ]
    }
   ],
   "source": [
    "# C) Iterate a list of names to create a list of tuples where the tuples first value \n",
    "#    is the length of the name and the second is the name\n",
    "\n",
    "list_of_tubs = [(len(name), name) for name in names]\n",
    "print(list_of_tubs)\n",
    "\n"
   ]
  },
  {
   "cell_type": "code",
   "execution_count": 19,
   "metadata": {},
   "outputs": [
    {
     "name": "stdout",
     "output_type": "stream",
     "text": [
      "['2', '4', '9', '2', '0']\n"
     ]
    }
   ],
   "source": [
    "# D) Iterate over each character in a string and get only those that are nummeric\n",
    "\n",
    "str = 'this2is4astring9containing2numbers0'\n",
    "\n",
    "numbers = [letter for letter in str if letter.isdigit()]\n",
    "print(numbers)"
   ]
  },
  {
   "cell_type": "code",
   "execution_count": 28,
   "metadata": {},
   "outputs": [
    {
     "name": "stdout",
     "output_type": "stream",
     "text": [
      "{(1, 3), (6, 6), (5, 6), (2, 1), (6, 2), (1, 6), (5, 1), (2, 5), (1, 2), (3, 3), (5, 5), (4, 4), (6, 3), (1, 5), (3, 6), (2, 2), (4, 1), (1, 1), (6, 4), (3, 2), (2, 6), (5, 4), (4, 5), (5, 2), (1, 4), (2, 3), (4, 2), (6, 5), (3, 5), (5, 3), (4, 6), (6, 1), (3, 1), (4, 3), (3, 4), (2, 4)}\n"
     ]
    }
   ],
   "source": [
    "# E) Using only a list comprehension wrapped in set() get all possible combination from throwing 2 dice \n",
    "#    (hint use 2 for loops in a single list comprehension)\n",
    "\n",
    "dice1 = range(1,7)\n",
    "dice2 = range(1,7)\n",
    "\n",
    "combi = set([(i,j) for i in dice1 for j in dice2])\n",
    "print(combi)\n"
   ]
  },
  {
   "cell_type": "code",
   "execution_count": 33,
   "metadata": {
    "scrolled": true
   },
   "outputs": [
    {
     "name": "stdout",
     "output_type": "stream",
     "text": [
      "{'Hans': 4, 'Joergen': 7, 'Malthe': 6, 'Henrik': 6, 'Harry': 5, 'Soeren': 6}\n"
     ]
    }
   ],
   "source": [
    "# QUESTION 2\n",
    "\n",
    "# A) Iterate a list of names and create a dictionary where key \n",
    "# is the name and value is the length of the name\n",
    "\n",
    "names = ['Hans', 'Joergen', 'Malthe', 'Henrik', 'Harry', 'Soeren']\n",
    "\n",
    "dict_names = {name:len(name) for name in names}\n",
    "print(dict_names)\n",
    "\n"
   ]
  },
  {
   "cell_type": "code",
   "execution_count": 34,
   "metadata": {},
   "outputs": [
    {
     "name": "stdout",
     "output_type": "stream",
     "text": [
      "{1: 1.0, 4: 2.0, 9: 3.0, 16: 4.0, 25: 5.0, 36: 6.0, 49: 7.0, 64: 8.0, 81: 9.0, 100: 10.0}\n"
     ]
    }
   ],
   "source": [
    "# B) Iterate a list of numbers and create a dictionary with \n",
    "#   {key:value} being {number:squareroot_of_number}\n",
    "\n",
    "import math\n",
    "numbers = [1,4,9,16,25,36,49,64,81,100]\n",
    "\n",
    "dict_numbers = {number:math.sqrt(number) for number in numbers}\n",
    "print(dict_numbers)"
   ]
  },
  {
   "cell_type": "code",
   "execution_count": null,
   "metadata": {},
   "outputs": [],
   "source": []
  }
 ],
 "metadata": {
  "kernelspec": {
   "display_name": "Python 3",
   "language": "python",
   "name": "python3"
  },
  "language_info": {
   "codemirror_mode": {
    "name": "ipython",
    "version": 3
   },
   "file_extension": ".py",
   "mimetype": "text/x-python",
   "name": "python",
   "nbconvert_exporter": "python",
   "pygments_lexer": "ipython3",
   "version": "3.7.6"
  }
 },
 "nbformat": 4,
 "nbformat_minor": 4
}
