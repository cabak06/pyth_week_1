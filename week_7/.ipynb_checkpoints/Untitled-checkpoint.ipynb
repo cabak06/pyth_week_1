{
 "cells": [
  {
   "cell_type": "markdown",
   "metadata": {},
   "source": [
    "Data from https://www.dr.dk/\n",
    "\n",
    "Use webscrabing to find out how many headlines contain the word 'corona'."
   ]
  },
  {
   "cell_type": "code",
   "execution_count": 2,
   "metadata": {},
   "outputs": [
    {
     "name": "stdout",
     "output_type": "stream",
     "text": [
      "['Twitter fjerner tweet fra Trumps coronarådgiver ', 'Status på coronavirus i Danmark ', 'Få de nyeste data her:  Så hårdt er verdens lande ramt af corona ', 'Se tallene:  Sådan smitter coronakrisen af på dansk økonomi ', 'TV Avisen beklager fejl i indslag om coronasmitte blandt mink  ', 'TV Avisen beklager fejl i indslag om coronasmitte blandt mink  '] 6\n"
     ]
    }
   ],
   "source": [
    "import matplotlib.pyplot as plt\n",
    "import bs4\n",
    "import requests\n",
    "import urllib.request\n",
    "import re\n",
    "\n",
    "url = 'https://www.dr.dk/'\n",
    "r_url = requests.get(url)\n",
    "r_url.raise_for_status()\n",
    "soup = bs4.BeautifulSoup(r_url.text, 'html.parser')\n",
    "\n",
    "list_of_headlines = []\n",
    "list_with_corona = []\n",
    "\n",
    "#finding all the links/headlines \n",
    "headlines = soup.findAll('a')\n",
    "for headline in headlines:\n",
    "    list_of_headlines.append(headline.getText())\n",
    "\n",
    "#making a list of corona-related headlines\n",
    "for headline in list_of_headlines:\n",
    "    if('corona' in headline):\n",
    "        list_with_corona.append(headline)\n",
    "print(list_with_corona, len(list_with_corona))"
   ]
  },
  {
   "cell_type": "markdown",
   "metadata": {},
   "source": [
    "Use regex to make a list of all words that occur just before and just after coronavirus in the article at https://www.dr.dk/nyheder/indland/status-paa-coronavirus-lige-nu. As in \"... xxx coronavirus yyy...\" find the words xxx and yyy."
   ]
  },
  {
   "cell_type": "code",
   "execution_count": 17,
   "metadata": {},
   "outputs": [
    {
     "name": "stdout",
     "output_type": "stream",
     "text": [
      "['Se de nyeste tal om coronavirus i Danmark her.', 'Grafen herunder viser, hvor mange danskere der er indlagt på sygehus på grund af coronavirus. Tallet er ekstremt vigtigt at holde øje med, da myndighedernes største bekymring er, at hospitalerne bliver overbebyrdede og får svært ved at tage sig af alle alvorligt syge.', 'Dér kan det i stedet give mening at følge antallet af personer, der bliver testet positiv for coronavirus. Tallet er lidt mere usikkert, fordi en del smittede ikke har symptomer og derfor aldrig bliver testet. Man skal dog passe på med at sammenligne efterårets smitte med foråret, hvor der var et stort mørketal af smittede, der aldrig blev testet.', 'Statens Serum Institut opdaterer løbende, hvor mange patienter i de enkelte kommuner, der er blevet testet og har fået bekræftet, at de har Covid-19, altså den sygdom man får af coronavirus.', 'Lægemiddelmyndigheder verden over støtter forskere og virksomheder i hurtigt at udvikle medicin og vaccine mod coronavirus og forbereder sig på at kunne køre en godkendelse igennem så hurtigt som muligt uden at gå på kompromis med sikkerheden.']\n",
      "\n",
      "Ord som fremkommer før/efter coronavirus: \n",
      "['om', 'i', 'mod', 'og']\n"
     ]
    }
   ],
   "source": [
    "url_article = 'https://www.dr.dk/nyheder/indland/status-paa-coronavirus-lige-nu'\n",
    "\n",
    "r_url_article = requests.get(url_article)\n",
    "r_url_article.raise_for_status()\n",
    "soup2 = bs4.BeautifulSoup(r_url_article.text,'html.parser')\n",
    "\n",
    "list_of_words = []\n",
    "all_words_in_article = soup2.findAll('p')\n",
    "for words in all_words_in_article:\n",
    "    list_of_words.append(words.getText())\n",
    "\n",
    "\n",
    "#reducing from full match to only coronavirus matches\n",
    "p = re.compile('coronavirus')\n",
    "newList = list(filter(p.findall,list_of_words))\n",
    "print(newList)\n",
    "\n",
    "index_friendly_list = []\n",
    "#splitting the elements into list of iterable words\n",
    "for element in list_of_words:\n",
    "    tmp = list(map(lambda x: x,element.split()))\n",
    "    index_friendly_list.append(tmp)\n",
    "\n",
    "\n",
    "\n",
    "words_before_after_coronavirus = []\n",
    "x = 1\n",
    "for e in index_friendly_list:\n",
    "    while x < len(e):\n",
    "        if(e[x] == 'coronavirus'):\n",
    "            word_before = e[x-1]\n",
    "            word_after = e[x+1]\n",
    "            words_before_after_coronavirus.extend([word_before,word_after])\n",
    "        x+=1\n",
    "    x=1\n",
    "\n",
    "#jeg har ikke medberegnet de gange hvor coronavirus står i starten eller slutningen af en sætning, da jeg \n",
    "#ikke ser et punktum eller komma som ord.\n",
    "#havde små problemer med regex så opgaven blev lidt mere kompliceret end den burde have været.\n",
    "print()\n",
    "print('Ord som fremkommer før/efter coronavirus: ')\n",
    "print(words_before_after_coronavirus)\n",
    "\n"
   ]
  },
  {
   "cell_type": "markdown",
   "metadata": {},
   "source": [
    "How many hrefs link to a sub page on dr.dk/nyheder/..., dr.dk/sporten/..., dr.dk/mad/... and dr.dk/musik/... Make a pie chart to show the amount of sports news, food news, music news and regular news."
   ]
  },
  {
   "cell_type": "code",
   "execution_count": 3,
   "metadata": {},
   "outputs": [
    {
     "data": {
      "image/png": "[encoded data removed]",
      "text/plain": [
       "<Figure size 432x288 with 1 Axes>"
      ]
     },
     "metadata": {},
     "output_type": "display_data"
    }
   ],
   "source": [
    "url_nyheder = 'https://www.dr.dk/nyheder'\n",
    "r_url_nyheder = requests.get(url_nyheder)\n",
    "r_url_nyheder.raise_for_status()\n",
    "soup3 = bs4.BeautifulSoup(r_url_nyheder.text,'html.parser')\n",
    "nyheder = soup3.findAll('a')\n",
    "news = len(nyheder)\n",
    "\n",
    "url_sporten = 'https://www.dr.dk/sporten'\n",
    "r_url_sporten = requests.get(url_sporten)\n",
    "r_url_sporten.raise_for_status()\n",
    "soup4 = bs4.BeautifulSoup(r_url_sporten.text,'html.parser')\n",
    "sporten = soup4.findAll('a')\n",
    "sport = len(sporten)\n",
    "\n",
    "url_mad = 'https://www.dr.dk/mad'\n",
    "r_url_mad = requests.get(url_mad)\n",
    "r_url_mad.raise_for_status()\n",
    "soup5 = bs4.BeautifulSoup(r_url_mad.text,'html.parser')\n",
    "mad = soup5.findAll('a')\n",
    "food = len(mad)\n",
    "\n",
    "url_musik = 'https://www.dr.dk/musik'\n",
    "r_url_musik = requests.get(url_musik)\n",
    "r_url_musik.raise_for_status()\n",
    "soup6 = bs4.BeautifulSoup(r_url_musik.text,'html.parser')\n",
    "musik = soup6.findAll('a')\n",
    "music = len(musik)\n",
    "\n",
    "# Data to plot\n",
    "labels = 'Nyheder', 'Sport', 'Mad', 'Musik'\n",
    "sizes = [news, sport, food, music]\n",
    "colors = ['gold', 'yellowgreen', 'lightcoral', 'lightskyblue']\n",
    "explode = (0, 0, 0, 0)\n",
    "\n",
    "# Plot\n",
    "plt.pie(sizes, explode=explode, labels=labels, colors=colors,\n",
    "autopct='%1.1f%%', shadow=True, startangle=140)\n",
    "\n",
    "plt.axis('equal')\n",
    "plt.show()"
   ]
  },
  {
   "cell_type": "code",
   "execution_count": null,
   "metadata": {},
   "outputs": [],
   "source": [
    "#Jeg nåede desværre ikke at lave den sidste opgave\n"
   ]
  }
 ],
 "metadata": {
  "kernelspec": {
   "display_name": "Python 3",
   "language": "python",
   "name": "python3"
  },
  "language_info": {
   "codemirror_mode": {
    "name": "ipython",
    "version": 3
   },
   "file_extension": ".py",
   "mimetype": "text/x-python",
   "name": "python",
   "nbconvert_exporter": "python",
   "pygments_lexer": "ipython3",
   "version": "3.7.6"
  }
 },
 "nbformat": 4,
 "nbformat_minor": 4
}
