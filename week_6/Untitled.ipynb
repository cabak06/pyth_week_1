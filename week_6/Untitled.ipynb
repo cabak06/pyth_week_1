{
 "cells": [
  {
   "cell_type": "code",
   "execution_count": 1,
   "metadata": {},
   "outputs": [],
   "source": [
    "import requests\n",
    "from concurrent.futures import ThreadPoolExecutor\n",
    "from concurrent.futures import ProcessPoolExecutor\n",
    "import multiprocessing\n",
    "import os\n",
    "import concurrent.futures\n",
    "from urllib.parse import urlparse\n",
    "\n",
    "\n",
    "\n",
    "class NotFoundException(Exception):\n",
    "    def __init__(self, *args, **kwargs):\n",
    "        Exception.__init__(self, *args, **kwargs)  \n",
    "\n",
    "\n",
    "class I_Module:\n",
    "\n",
    "    def __init__(self,url_list:list):\n",
    "        self.url_list = url_list  \n",
    "        self.filenames = []\n",
    "        self.count = 0 \n",
    "    \n",
    "    \n",
    "    def __iter__(self):\n",
    "        return self\n",
    "    \n",
    "    \n",
    "    #returns the next filename\n",
    "    def __next__(self):\n",
    "        self.count +=1\n",
    "        if self.count > len(self.filenames):\n",
    "            raise StopIteration\n",
    "        return self.filenames[self.count]\n",
    "\n",
    "\n",
    "    def download(self,url,filename = None):\n",
    "        if filename == None:\n",
    "            #extracting filename/last-component\n",
    "            filename = os.path.basename(urlparse(url).path)\n",
    "        \n",
    "        #checking for error\n",
    "        r = requests.get(url)\n",
    "        if (r.status_code == 400):\n",
    "            raise NotFoundException('ERROR - Statuscode: 400')\n",
    "     \n",
    "        #checking if actual url_list contains url\n",
    "        if(not url in self.url_list ):\n",
    "            self.url_list.append(url)\n",
    "            self.filenames.append(filename)\n",
    "            #accessing response body as bytes as we are working with files \n",
    "            # saving the book   \n",
    "            with open(filename,'wb') as fd:\n",
    "                fd.write(r.content)\n",
    "        \n",
    "        return filename\n",
    "\n",
    "    \n",
    "\n",
    "    def multi_download(self,url_list:list,workers=5):\n",
    "        with ThreadPoolExecutor(workers) as ex:\n",
    "            #concurrent call to the download function with url_list as *iterables\n",
    "            res = ex.map(self.download,url_list,timeout=None)\n",
    "        #return value: filenames as it is the return value from download func \n",
    "        print(list(res))\n",
    "        return list(res)\n",
    "    \n",
    "    \n",
    "    def urllist_generator(self):\n",
    "        for url in self.url_list:\n",
    "            yield url\n",
    "\n",
    "\n",
    "\n",
    "    def avg_vowels(self,file):\n",
    "        num_words = 0\n",
    "        num_vowels = 0\n",
    "        vowel = set('aeiouAEIOU') \n",
    "        with open(file,encoding=\"utf8\") as f:\n",
    "            for line in f:\n",
    "                words = line.split()\n",
    "                num_words += len(words)\n",
    "                for str in line:\n",
    "                    for alpha in str:\n",
    "                        if alpha in vowel:\n",
    "                            num_vowels +=1    \n",
    "\n",
    "        average_num_vowels_per_word = round(num_vowels/num_words,2)\n",
    "        return average_num_vowels_per_word\n",
    "    \n",
    "    \n",
    "    \n",
    "    def hardest_read(self,list_of_filenames,work=multiprocessing.cpu_count()): \n",
    "        #if __name__ == '__main__':\n",
    "        res = []\n",
    "        with ProcessPoolExecutor(work) as ex:\n",
    "            res = ex.map(self.avg_vowels,list_of_filenames) \n",
    "            ex.shutdown()\n",
    "        print(list(res))\n",
    "        return list(res)        \n",
    "        \n",
    "       \n",
    "\n",
    "\n",
    "\n",
    "\n",
    "    "
   ]
  },
  {
   "cell_type": "code",
   "execution_count": 2,
   "metadata": {},
   "outputs": [
    {
     "name": "stdout",
     "output_type": "stream",
     "text": [
      "['1184-0.txt', '120-0.txt', '58585-0.txt', '2852-0.txt', '1400-0.txt', '2600-0.txt', '902-0.txt', '16-0.txt', 'pg15399.txt', 'pg20203.txt']\n"
     ]
    },
    {
     "data": {
      "text/plain": [
       "[]"
      ]
     },
     "execution_count": 2,
     "metadata": {},
     "output_type": "execute_result"
    }
   ],
   "source": [
    "#testing the Module\n",
    "           \n",
    "urls = [\n",
    "'https://gutenberg.org/files/1184/1184-0.txt','https://gutenberg.org/files/120/120-0.txt',\n",
    "'https://gutenberg.org/files/58585/58585-0.txt','https://gutenberg.org/files/2852/2852-0.txt',\n",
    "'https://gutenberg.org/files/1400/1400-0.txt','https://gutenberg.org/files/2600/2600-0.txt',\n",
    "'https://gutenberg.org/files/902/902-0.txt','https://gutenberg.org/files/16/16-0.txt',\n",
    "'http://gutenberg.org/cache/epub/15399/pg15399.txt','http://gutenberg.org/cache/epub/20203/pg20203.txt'\n",
    "]\n",
    "        \n",
    " \n",
    "file_names = [\n",
    "'1184-0.txt', '120-0.txt', '58585-0.txt', '2852-0.txt', '1400-0.txt',\n",
    "'2600-0.txt', '902-0.txt', '16-0.txt', 'pg15399.txt', 'pg20203.txt'\n",
    "]\n",
    " \n",
    "    \n",
    "book_dict = {\n",
    "'The count of M.C': '1184-0.txt',\n",
    "'Treasure Island': '120-0.txt',\n",
    "'Great Expectations:':'1400-0.txt',\n",
    "'Peter Pan': '16-0.txt',\n",
    "'War and Peace': '2600-0.txt',\n",
    "'T.H.O Baske..':'2852-0.txt',\n",
    "'The Prophet':'58585-0.txt',\n",
    "'The H. Prince':'902-0.txt',\n",
    "'Gustavas Vassa':'pg15399.txt',\n",
    "'Benjamin Franklin':'pg20203.txt'\n",
    "}\n",
    "    \n",
    "       \n",
    "\n",
    "    \n",
    "    \n",
    "    \n",
    "md = I_Module([])\n",
    "\n",
    "#testing multidownload_func\n",
    "md.multi_download(urls)\n",
    "\n",
    "\n",
    "\n",
    "\n",
    "\n",
    "\n"
   ]
  },
  {
   "cell_type": "code",
   "execution_count": 3,
   "metadata": {},
   "outputs": [
    {
     "name": "stdout",
     "output_type": "stream",
     "text": [
      "https://gutenberg.org/files/58585/58585-0.txt\n",
      "https://gutenberg.org/files/120/120-0.txt\n",
      "https://gutenberg.org/files/2852/2852-0.txt\n",
      "https://gutenberg.org/files/1400/1400-0.txt\n",
      "https://gutenberg.org/files/902/902-0.txt\n",
      "https://gutenberg.org/files/16/16-0.txt\n",
      "http://gutenberg.org/cache/epub/15399/pg15399.txt\n",
      "http://gutenberg.org/cache/epub/20203/pg20203.txt\n",
      "https://gutenberg.org/files/1184/1184-0.txt\n",
      "https://gutenberg.org/files/2600/2600-0.txt\n"
     ]
    }
   ],
   "source": [
    "#testing generator\n",
    "for url in md.urllist_generator():\n",
    "    print(url)\n"
   ]
  },
  {
   "cell_type": "code",
   "execution_count": 4,
   "metadata": {},
   "outputs": [
    {
     "name": "stdout",
     "output_type": "stream",
     "text": [
      "120-0.txt 2852-0.txt\n"
     ]
    }
   ],
   "source": [
    "#testing iterator\n",
    "my_iterator = iter(md)\n",
    "element1 = next(my_iterator)\n",
    "element2 = next(my_iterator)\n",
    "print(element1,element2)"
   ]
  },
  {
   "cell_type": "code",
   "execution_count": 5,
   "metadata": {},
   "outputs": [
    {
     "name": "stdout",
     "output_type": "stream",
     "text": [
      "[1.69, 1.54, 1.62, 1.6, 1.58, 1.67, 1.58, 1.56, 1.62, 1.68]\n"
     ]
    },
    {
     "data": {
      "text/plain": [
       "[]"
      ]
     },
     "execution_count": 5,
     "metadata": {},
     "output_type": "execute_result"
    }
   ],
   "source": [
    "#testing hardest_read func\n",
    "md.hardest_read(file_names)\n"
   ]
  },
  {
   "cell_type": "code",
   "execution_count": 6,
   "metadata": {},
   "outputs": [
    {
     "name": "stdout",
     "output_type": "stream",
     "text": [
      "{'The count of M.C': 1.69, 'Treasure Island': 1.54, 'Great Expectations:': 1.58, 'Peter Pan': 1.56, 'War and Peace': 1.67, 'T.H.O Baske..': 1.6, 'The Prophet': 1.62, 'The H. Prince': 1.58, 'Gustavas Vassa': 1.62, 'Benjamin Franklin': 1.68}\n"
     ]
    }
   ],
   "source": [
    "#getting key/value for booktitles and average vowels/word:\n",
    "my_dic = {}\n",
    "for k in book_dict.keys():\n",
    "    result = md.avg_vowels(book_dict[k])\n",
    "    my_dic.update({k:result})\n",
    "\n",
    "print(my_dic)"
   ]
  },
  {
   "cell_type": "code",
   "execution_count": 7,
   "metadata": {},
   "outputs": [
    {
     "name": "stdout",
     "output_type": "stream",
     "text": [
      "[('The count of M.C', 1.69), ('Benjamin Franklin', 1.68), ('War and Peace', 1.67), ('The Prophet', 1.62), ('Gustavas Vassa', 1.62), ('T.H.O Baske..', 1.6), ('Great Expectations:', 1.58), ('The H. Prince', 1.58), ('Peter Pan', 1.56), ('Treasure Island', 1.54)]\n"
     ]
    }
   ],
   "source": [
    "#sorting books\n",
    "sort_titles = sorted(my_dic.items(), key=lambda x: x[1], reverse=True)\n",
    "print(sort_titles)"
   ]
  },
  {
   "cell_type": "code",
   "execution_count": 8,
   "metadata": {},
   "outputs": [
    {
     "data": {
      "image/png": "[encoded data removed]",
      "text/plain": [
       "<Figure size 432x288 with 1 Axes>"
      ]
     },
     "metadata": {
      "needs_background": "light"
     },
     "output_type": "display_data"
    }
   ],
   "source": [
    "#Plotting\n",
    "import matplotlib.pyplot as plt\n",
    "\n",
    "list_bar_x = []\n",
    "list_bar_y = []\n",
    "for a in sort_titles:\n",
    "   list_bar_x.append(str(a[0]))\n",
    "   list_bar_y.append(a[1])\n",
    "\n",
    "plt.figure()\n",
    "plt.bar(list_bar_x, list_bar_y, linewidth=5)\n",
    "\n",
    "# Set chart title and label axes. \n",
    "plt.title(\"AVRG-Vowel/Word Ratio\", fontsize=15)\n",
    "plt.xlabel(\"Titles\", fontsize=14)\n",
    "plt.ylabel(\"Vowels\", fontsize=14)\n",
    "plt.xticks(rotation=90)\n",
    " # Set size of tick labels.\n",
    "plt.tick_params(axis='both', labelsize=14)\n",
    "plt.show()"
   ]
  },
  {
   "cell_type": "code",
   "execution_count": null,
   "metadata": {},
   "outputs": [],
   "source": []
  }
 ],
 "metadata": {
  "kernelspec": {
   "display_name": "Python 3",
   "language": "python",
   "name": "python3"
  },
  "language_info": {
   "codemirror_mode": {
    "name": "ipython",
    "version": 3
   },
   "file_extension": ".py",
   "mimetype": "text/x-python",
   "name": "python",
   "nbconvert_exporter": "python",
   "pygments_lexer": "ipython3",
   "version": "3.7.6"
  }
 },
 "nbformat": 4,
 "nbformat_minor": 4
}
